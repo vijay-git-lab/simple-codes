{
 "cells": [
  {
   "cell_type": "code",
   "execution_count": null,
   "id": "e8c6d19a",
   "metadata": {},
   "outputs": [],
   "source": [
    "class Triangle:\n",
    "    def __init__ (self,a,b,c):\n",
    "        self.side_a = a\n",
    "        self.side_b = b\n",
    "        self.side_c = c\n",
    "        \n",
    "    def is_valid(self):\n",
    "        if self.side_a + self.side_b > self.side_c and self.side_b + self.side_c > self.side_a and self.side_c + self.side_a > self.side_b :\n",
    "            return \"valid\"\n",
    "        else:\n",
    "            return \"invalid\"\n",
    "    \n",
    "    def side_calssification(self):\n",
    "        if self.is_valid() == \"valid\":\n",
    "            if self.side_a == self.side_b == self.side_c:\n",
    "                print(\"triangle is equilateral\")\n",
    "            elif self.side_a == self.side_b or self.side_b == self.side_c or self.sidec == self.side_a:\n",
    "                print (\"triangle is isosceles\")\n",
    "            else:\n",
    "                print(\"trianle is equilateral\")\n",
    "        else:\n",
    "            return \"invalid\"\n",
    "    \n",
    "    def angle_calssification(self):\n",
    "        if self.is_valid() == \"valid\":\n",
    "            l= []\n",
    "            l= (self.side_a, self.side_b, self.side_c)\n",
    "            m = sorted(l)\n",
    "            if m[2]**2 == m[1]**2 + m[0]**2:\n",
    "                return \"Right\"\n",
    "            elif m[2]**2 > m[1]**2 + m[0]**2:\n",
    "                return \"obtuse\"\n",
    "            else:\n",
    "                return \"Acute\"\n",
    "        else:\n",
    "            return \"invalid\"\n",
    "        \n",
    "    def area (self):\n",
    "        if self.is_valid() == \"valid\":\n",
    "            s =  (self.side_a + self.side_b + self.side_c)/2\n",
    "            x =  (s*(s-self.side_a)*(s-self.side_b)*(s-self.side_c))**0.5\n",
    "            return x\n",
    "\n",
    "        else:\n",
    "            return \"invalid\" \n",
    "        "
   ]
  }
 ],
 "metadata": {
  "kernelspec": {
   "display_name": "Python 3 (ipykernel)",
   "language": "python",
   "name": "python3"
  },
  "language_info": {
   "codemirror_mode": {
    "name": "ipython",
    "version": 3
   },
   "file_extension": ".py",
   "mimetype": "text/x-python",
   "name": "python",
   "nbconvert_exporter": "python",
   "pygments_lexer": "ipython3",
   "version": "3.9.12"
  }
 },
 "nbformat": 4,
 "nbformat_minor": 5
}
