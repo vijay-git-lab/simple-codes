{
 "cells": [
  {
   "cell_type": "markdown",
   "id": "7cd3b0ff",
   "metadata": {},
   "source": [
    "Declare two variables, `x` and `y`, and assign them integer values.\n",
    "Swap the values of these variables without using any temporary variable."
   ]
  },
  {
   "cell_type": "code",
   "execution_count": null,
   "id": "9a48a025",
   "metadata": {},
   "outputs": [],
   "source": [
    "x = 10\n",
    "y = 20\n",
    "\n",
    "#swapping of values of variables:\n",
    "x, y =y,x\n"
   ]
  },
  {
   "cell_type": "markdown",
   "id": "007b6745",
   "metadata": {},
   "source": [
    "Create a program that calculates the area of a rectangle. Take the\n",
    "length and width as inputs from the user and store them in variables.\n",
    "Calculate and display the area."
   ]
  },
  {
   "cell_type": "code",
   "execution_count": null,
   "id": "633f7c92",
   "metadata": {},
   "outputs": [],
   "source": [
    "length = int(input(\"Enter the lenght : \"))\n",
    "width = int(input(\"Enter the width : \"))\n",
    "\n",
    "#calculation of area:\n",
    "area = length*width\n",
    "print(f'Area of rectangle is : {area}')\n"
   ]
  },
  {
   "cell_type": "markdown",
   "id": "e5f6b725",
   "metadata": {},
   "source": [
    "Write a Python program that converts temperature from Celsius to\n",
    "Fahrenheit. Take the temperature in Celsius as input, store it in a\n",
    "variable, convert it to Fahrenheit, and display the result."
   ]
  },
  {
   "cell_type": "code",
   "execution_count": null,
   "id": "f5c09b8e",
   "metadata": {},
   "outputs": [],
   "source": [
    "cel = float(input(\"Enter the temperature in Celsius : \"))\n",
    "\n",
    "# conversion into fahrenheight:\n",
    "fahren = cel*(9/5) + 32\n",
    "print(f'The temperature in fahrenheight is : {fahren}')\n"
   ]
  },
  {
   "cell_type": "markdown",
   "id": "e585dc9e",
   "metadata": {},
   "source": [
    "Write a Python program that takes a string as input and prints the\n",
    "length of the string."
   ]
  },
  {
   "cell_type": "code",
   "execution_count": null,
   "id": "dc2d15e8",
   "metadata": {},
   "outputs": [],
   "source": [
    "s = input(\"Enter a string : \")\n",
    "print(f'Length of {s} is {len(s)}')\n"
   ]
  },
  {
   "cell_type": "markdown",
   "id": "d762927c",
   "metadata": {},
   "source": [
    "Create a program that takes a sentence from the user and counts the\n",
    "number of vowels (a, e, i, o, u) in the string."
   ]
  },
  {
   "cell_type": "code",
   "execution_count": null,
   "id": "b61cd79d",
   "metadata": {},
   "outputs": [],
   "source": [
    "sentence = input(\"Enter a sentence : \")\n",
    "vowels = ('a','e','i','o','u','A','E','I','O','U')\n",
    "vowel_count = 0\n",
    "for  i in sentence:\n",
    "    if i in vowels:\n",
    "        vowel_count = vowel_count + 1\n",
    "print(vowel_count)\n"
   ]
  },
  {
   "cell_type": "markdown",
   "id": "d95a3e5f",
   "metadata": {},
   "source": [
    "Given a string, reverse the order of characters using string slicing and\n",
    "print the reversed string."
   ]
  },
  {
   "cell_type": "code",
   "execution_count": null,
   "id": "d8ab3a3c",
   "metadata": {},
   "outputs": [],
   "source": [
    "s = input(\"Enter a string : \")\n",
    "rev_str = s[::-1]\n",
    "print(rev_str)\n"
   ]
  },
  {
   "cell_type": "markdown",
   "id": "8e01187f",
   "metadata": {},
   "source": [
    "Write a program that takes a string as input and checks if it is a\n",
    "palindrome (reads the same forwards and backwards)."
   ]
  },
  {
   "cell_type": "code",
   "execution_count": null,
   "id": "201bad60",
   "metadata": {},
   "outputs": [],
   "source": [
    "s = input(\"Enter a strinf : \")\n",
    "r = s[::-1]\n",
    "if s == r:\n",
    "    print(f'{s} is a palindrome')\n",
    "else:\n",
    "    print(f'{s} is not a palindrome')\n",
    "    "
   ]
  },
  {
   "cell_type": "markdown",
   "id": "7b2607a4",
   "metadata": {},
   "source": [
    "Create a program that takes a string as input and removes all the\n",
    "spaces from it. Print the modified string without spaces."
   ]
  },
  {
   "cell_type": "code",
   "execution_count": null,
   "id": "7ea814de",
   "metadata": {},
   "outputs": [],
   "source": [
    "s = input(\"enter a string : \")\n",
    "s. replace(\" \", \"\")\n",
    "        "
   ]
  }
 ],
 "metadata": {
  "kernelspec": {
   "display_name": "Python 3 (ipykernel)",
   "language": "python",
   "name": "python3"
  },
  "language_info": {
   "codemirror_mode": {
    "name": "ipython",
    "version": 3
   },
   "file_extension": ".py",
   "mimetype": "text/x-python",
   "name": "python",
   "nbconvert_exporter": "python",
   "pygments_lexer": "ipython3",
   "version": "3.9.12"
  }
 },
 "nbformat": 4,
 "nbformat_minor": 5
}
