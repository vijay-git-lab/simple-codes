{
 "cells": [
  {
   "cell_type": "code",
   "execution_count": null,
   "id": "122aac96",
   "metadata": {},
   "outputs": [],
   "source": [
    "##caculate the prime factors of a number\n",
    "\n",
    "# first calculate if the number is prime or not\n",
    "def prime(num):\n",
    "        flag = \"prime\"\n",
    "        for i in range (2,num):\n",
    "            if num%i == 0:\n",
    "                flag = \"not prime\"\n",
    "                break\n",
    "            else:\n",
    "                continue\n",
    "        if flag == \"prime\":\n",
    "            return \"prime\"\n",
    "        else:\n",
    "            return \"not prime\"\n",
    "        \n",
    "# finally  calculate the list of prime factors of the number        \n",
    "def f (numr):\n",
    "    l5 = []\n",
    "    i = 2\n",
    "    while numr != 1:\n",
    "        if prime(i) == \"prime\":\n",
    "            if numr%i == 0:\n",
    "                l5.append(i)\n",
    "                numr = numr/i\n",
    "            else:\n",
    "                i = i+1\n",
    "        else:\n",
    "            i= i+1\n",
    "    print(l5)"
   ]
  }
 ],
 "metadata": {
  "kernelspec": {
   "display_name": "Python 3 (ipykernel)",
   "language": "python",
   "name": "python3"
  },
  "language_info": {
   "codemirror_mode": {
    "name": "ipython",
    "version": 3
   },
   "file_extension": ".py",
   "mimetype": "text/x-python",
   "name": "python",
   "nbconvert_exporter": "python",
   "pygments_lexer": "ipython3",
   "version": "3.9.12"
  }
 },
 "nbformat": 4,
 "nbformat_minor": 5
}
