{
 "cells": [
  {
   "cell_type": "code",
   "execution_count": null,
   "id": "c51bf4c8",
   "metadata": {},
   "outputs": [],
   "source": [
    "a,b = int(input(\"enter a number: \")) , int(input(\"enter a number: \"))\n",
    "while a <0 or b< 0:\n",
    "    print(\"enter only positive number greater than 1\")\n",
    "    a,b = int(input(\"enter a number: \")) , int(input(\"enter a number: \"))\n",
    "l=[]\n",
    "m=[]\n",
    "x = min(a,b)\n",
    "y = max(a,b)\n",
    "for i in range (x,y+1):\n",
    "    if i ==1:\n",
    "        continue\n",
    "    for j in range(2,i):\n",
    "        if i%j == 0:\n",
    "            break    \n",
    "    else:\n",
    "        l.append(i)\n",
    "for i in range(len(l)-1):\n",
    "    if l[i+1] - l[i]  == 2:\n",
    "        t = l[i] , l[i+1]\n",
    "        m.append(t)\n",
    "print(l)\n",
    "print(m)"
   ]
  }
 ],
 "metadata": {
  "kernelspec": {
   "display_name": "Python 3 (ipykernel)",
   "language": "python",
   "name": "python3"
  },
  "language_info": {
   "codemirror_mode": {
    "name": "ipython",
    "version": 3
   },
   "file_extension": ".py",
   "mimetype": "text/x-python",
   "name": "python",
   "nbconvert_exporter": "python",
   "pygments_lexer": "ipython3",
   "version": "3.9.12"
  }
 },
 "nbformat": 4,
 "nbformat_minor": 5
}
