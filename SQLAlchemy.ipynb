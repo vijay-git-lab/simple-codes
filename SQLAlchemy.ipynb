{
 "cells": [
  {
   "cell_type": "code",
   "execution_count": 1,
   "id": "13144395",
   "metadata": {},
   "outputs": [
    {
     "name": "stdout",
     "output_type": "stream",
     "text": [
      "Requirement already satisfied: sqlalchemy in c:\\users\\vijay\\anaconda3\\lib\\site-packages (1.4.32)\n",
      "Requirement already satisfied: greenlet!=0.4.17 in c:\\users\\vijay\\anaconda3\\lib\\site-packages (from sqlalchemy) (1.1.1)\n"
     ]
    },
    {
     "data": {
      "text/plain": [
       "'1.4.32'"
      ]
     },
     "execution_count": 1,
     "metadata": {},
     "output_type": "execute_result"
    }
   ],
   "source": [
    "!pip install sqlalchemy\n",
    "import sqlalchemy\n",
    "sqlalchemy.__version__"
   ]
  },
  {
   "cell_type": "markdown",
   "id": "37aafdb0",
   "metadata": {},
   "source": [
    "Create a database and table college and student repectively"
   ]
  },
  {
   "cell_type": "code",
   "execution_count": 2,
   "id": "98f720ff",
   "metadata": {},
   "outputs": [
    {
     "name": "stdout",
     "output_type": "stream",
     "text": [
      "2023-06-03 05:01:10,677 INFO sqlalchemy.engine.Engine BEGIN (implicit)\n",
      "2023-06-03 05:01:10,677 INFO sqlalchemy.engine.Engine PRAGMA main.table_info(\"students\")\n",
      "2023-06-03 05:01:10,678 INFO sqlalchemy.engine.Engine [raw sql] ()\n",
      "2023-06-03 05:01:10,679 INFO sqlalchemy.engine.Engine COMMIT\n"
     ]
    }
   ],
   "source": [
    "from sqlalchemy import create_engine, MetaData, Table, Column, Integer, String\n",
    "\n",
    "#connecting to database\n",
    "#creation of engine object\n",
    "engine = create_engine('sqlite:///college.db', echo = True)\n",
    "\n",
    "# defination and craetion of table of table \n",
    "meta = MetaData()\n",
    "students = Table(\n",
    "   'students', meta, \n",
    "   Column('id', Integer, primary_key = True), \n",
    "   Column('name', String), \n",
    "   Column('lastname', String),\n",
    ")\n",
    "meta.create_all(engine)\n",
    "\n",
    "# engine.drop() this may delete the tablenfrom metadata\n",
    "\n"
   ]
  },
  {
   "cell_type": "markdown",
   "id": "475f73e5",
   "metadata": {},
   "source": [
    "Insert into table"
   ]
  },
  {
   "cell_type": "code",
   "execution_count": 16,
   "id": "21c0a3d0",
   "metadata": {},
   "outputs": [
    {
     "name": "stdout",
     "output_type": "stream",
     "text": [
      "2023-06-02 12:59:57,799 INFO sqlalchemy.engine.Engine INSERT INTO students (name, lastname) VALUES (?, ?)\n",
      "2023-06-02 12:59:57,800 INFO sqlalchemy.engine.Engine [cached since 61.94s ago] ('Vijajhhy', 'Rai')\n",
      "2023-06-02 12:59:57,803 INFO sqlalchemy.engine.Engine COMMIT\n"
     ]
    }
   ],
   "source": [
    "#creation of insert object\n",
    "ins = students.insert()\n",
    "\n",
    "#modify the value of insertion\n",
    "ins = students.insert().values(name = 'Vijay', lastname = 'Rai')\n",
    "\n",
    "#creating a connection with connection object \n",
    "conn = engine.connect()\n",
    "\n",
    "# executing the expression for final commit\n",
    "result = conn.execute(ins)"
   ]
  },
  {
   "cell_type": "markdown",
   "id": "e319e90d",
   "metadata": {},
   "source": [
    "insert value in specific field"
   ]
  },
  {
   "cell_type": "code",
   "execution_count": 19,
   "id": "954d09d3",
   "metadata": {},
   "outputs": [
    {
     "name": "stdout",
     "output_type": "stream",
     "text": [
      "2023-06-02 13:10:35,351 INFO sqlalchemy.engine.Engine INSERT INTO students (name) VALUES (?)\n",
      "2023-06-02 13:10:35,352 INFO sqlalchemy.engine.Engine [generated in 0.00092s] ('Kasdsran',)\n",
      "2023-06-02 13:10:35,358 INFO sqlalchemy.engine.Engine COMMIT\n"
     ]
    }
   ],
   "source": [
    "#creation of insert object\n",
    "ins = students.insert()\n",
    "\n",
    "#insert value in a specific field.\n",
    "ins = students.insert().values(name = 'Kasdsran')\n",
    "\n",
    "#creating a connection with connection object \n",
    "conn = engine.connect()\n",
    "\n",
    "## executing the expression for final commit\n",
    "result = conn.execute(ins)"
   ]
  },
  {
   "cell_type": "markdown",
   "id": "caede74b",
   "metadata": {},
   "source": [
    "to issue many inserts using DBAPI’s execute many() method,there is  list of dictionaries each containing a distinct set of parameters to be inserted."
   ]
  },
  {
   "cell_type": "code",
   "execution_count": 23,
   "id": "4b275d93",
   "metadata": {},
   "outputs": [
    {
     "name": "stdout",
     "output_type": "stream",
     "text": [
      "2023-06-02 13:25:08,837 INFO sqlalchemy.engine.Engine INSERT INTO students (name, lastname) VALUES (?, ?)\n",
      "2023-06-02 13:25:08,838 INFO sqlalchemy.engine.Engine [cached since 13.2s ago] (('Rajdfsdiv', 'Khanna'), ('Komadfsfl', 'Bhandari'), ('Abddfsdul', 'Sattar'), ('Prisdfsdya', 'Rajhans'))\n",
      "2023-06-02 13:25:08,840 INFO sqlalchemy.engine.Engine COMMIT\n"
     ]
    }
   ],
   "source": [
    "#creating a connection with connection object \n",
    "conn = engine.connect()\n",
    "\n",
    "#enter the rows\n",
    "result = conn.execute(students.insert(), [\n",
    "       {'name':'Rajdfsdiv', 'lastname' : 'Khanna'},\n",
    "       {'name':'Komadfsfl','lastname' : 'Bhandari'},\n",
    "       {'name':'Abddfsdul','lastname' : 'Sattar'},\n",
    "       {'name':'Prisdfsdya','lastname' : 'Rajhans'},\n",
    "    ])"
   ]
  },
  {
   "cell_type": "markdown",
   "id": "21e0a327",
   "metadata": {},
   "source": [
    "select rows in table"
   ]
  },
  {
   "cell_type": "code",
   "execution_count": 24,
   "id": "cb52c2c9",
   "metadata": {},
   "outputs": [
    {
     "name": "stdout",
     "output_type": "stream",
     "text": [
      "2023-06-02 13:32:13,582 INFO sqlalchemy.engine.Engine SELECT students.id, students.name, students.lastname \n",
      "FROM students\n",
      "2023-06-02 13:32:13,583 INFO sqlalchemy.engine.Engine [generated in 0.00095s] ()\n",
      "(1, 'Vijay', 'Rai')\n",
      "(3, 'Komal', 'Bhandari')\n",
      "(4, 'Abdul', 'Sattar')\n",
      "(5, 'Priya', 'Rajhans')\n",
      "(6, 'Vijay', 'Rai')\n",
      "(7, 'Vijajhhy', 'Rai')\n",
      "(8, 'Kasdsran', None)\n",
      "(9, 'Rajdfsdiv', 'Khanna')\n",
      "(10, 'Komadfsfl', 'Bhandari')\n",
      "(11, 'Abddfsdul', 'Sattar')\n",
      "(12, 'Prisdfsdya', 'Rajhans')\n",
      "(13, 'Rajdfsdiv', 'Khanna')\n",
      "(14, 'Komadfsfl', 'Bhandari')\n",
      "(15, 'Abddfsdul', 'Sattar')\n",
      "(16, 'Prisdfsdya', 'Rajhans')\n"
     ]
    }
   ],
   "source": [
    "#create a select object of the table object\n",
    "s = students.select()\n",
    "\n",
    "#create a connection object\n",
    "conn = engine.connect()\n",
    "\n",
    "#execute the selcet statment\n",
    "result = conn.execute(s)\n",
    "\n",
    "\n",
    "# fetch the rows one by one\n",
    "for i in result:\n",
    "    print (row)\n",
    "\n"
   ]
  },
  {
   "cell_type": "code",
   "execution_count": 25,
   "id": "59e56346",
   "metadata": {},
   "outputs": [
    {
     "name": "stdout",
     "output_type": "stream",
     "text": [
      "2023-06-02 13:32:23,247 INFO sqlalchemy.engine.Engine SELECT students.id, students.name, students.lastname \n",
      "FROM students\n",
      "2023-06-02 13:32:23,249 INFO sqlalchemy.engine.Engine [cached since 9.667s ago] ()\n",
      "(1, 'Vijay', 'Rai')\n",
      "(3, 'Komal', 'Bhandari')\n",
      "(4, 'Abdul', 'Sattar')\n",
      "(5, 'Priya', 'Rajhans')\n",
      "(6, 'Vijay', 'Rai')\n",
      "(7, 'Vijajhhy', 'Rai')\n",
      "(8, 'Kasdsran', None)\n",
      "(9, 'Rajdfsdiv', 'Khanna')\n",
      "(10, 'Komadfsfl', 'Bhandari')\n",
      "(11, 'Abddfsdul', 'Sattar')\n",
      "(12, 'Prisdfsdya', 'Rajhans')\n",
      "(13, 'Rajdfsdiv', 'Khanna')\n",
      "(14, 'Komadfsfl', 'Bhandari')\n",
      "(15, 'Abddfsdul', 'Sattar')\n",
      "(16, 'Prisdfsdya', 'Rajhans')\n"
     ]
    }
   ],
   "source": [
    "s = students.select()\n",
    "conn = engine.connect()\n",
    "result = conn.execute(s)\n",
    "\n",
    "for row in result:\n",
    "    print (row)"
   ]
  },
  {
   "cell_type": "markdown",
   "id": "9bb16a86",
   "metadata": {},
   "source": [
    "where clause where the column id is grater than 2"
   ]
  },
  {
   "cell_type": "code",
   "execution_count": 34,
   "id": "c99c4200",
   "metadata": {},
   "outputs": [
    {
     "name": "stdout",
     "output_type": "stream",
     "text": [
      "2023-06-02 13:36:14,656 INFO sqlalchemy.engine.Engine SELECT students.id, students.name, students.lastname \n",
      "FROM students \n",
      "WHERE students.id > ?\n",
      "2023-06-02 13:36:14,656 INFO sqlalchemy.engine.Engine [cached since 20.5s ago] (6,)\n",
      "(7, 'Vijajhhy', 'Rai')\n",
      "(8, 'Kasdsran', None)\n",
      "(9, 'Rajdfsdiv', 'Khanna')\n",
      "(10, 'Komadfsfl', 'Bhandari')\n",
      "(11, 'Abddfsdul', 'Sattar')\n",
      "(12, 'Prisdfsdya', 'Rajhans')\n",
      "(13, 'Rajdfsdiv', 'Khanna')\n",
      "(14, 'Komadfsfl', 'Bhandari')\n",
      "(15, 'Abddfsdul', 'Sattar')\n",
      "(16, 'Prisdfsdya', 'Rajhans')\n"
     ]
    }
   ],
   "source": [
    "s = students.select().where(students.columns.id>2)\n",
    "conn = engine.connect()\n",
    "result = conn.execute(s)\n",
    "\n",
    "for row in result:\n",
    "    print (row)"
   ]
  },
  {
   "cell_type": "code",
   "execution_count": 38,
   "id": "62e5bcf3",
   "metadata": {},
   "outputs": [
    {
     "ename": "ArgumentError",
     "evalue": "Textual column expression 'students' should be explicitly declared with text('students'), or use column('students') for more specificity",
     "output_type": "error",
     "traceback": [
      "\u001b[1;31m---------------------------------------------------------------------------\u001b[0m",
      "\u001b[1;31mArgumentError\u001b[0m                             Traceback (most recent call last)",
      "Input \u001b[1;32mIn [38]\u001b[0m, in \u001b[0;36m<cell line: 2>\u001b[1;34m()\u001b[0m\n\u001b[0;32m      1\u001b[0m \u001b[38;5;28;01mfrom\u001b[39;00m \u001b[38;5;21;01msqlalchemy\u001b[39;00m\u001b[38;5;21;01m.\u001b[39;00m\u001b[38;5;21;01msql\u001b[39;00m \u001b[38;5;28;01mimport\u001b[39;00m select\n\u001b[1;32m----> 2\u001b[0m s \u001b[38;5;241m=\u001b[39m \u001b[43mselect\u001b[49m\u001b[43m(\u001b[49m\u001b[43m[\u001b[49m\u001b[38;5;124;43m'\u001b[39;49m\u001b[38;5;124;43mstudents\u001b[39;49m\u001b[38;5;124;43m'\u001b[39;49m\u001b[43m]\u001b[49m\u001b[43m)\u001b[49m\n\u001b[0;32m      3\u001b[0m result \u001b[38;5;241m=\u001b[39m conn\u001b[38;5;241m.\u001b[39mexecute(s)\n",
      "File \u001b[1;32m<string>:2\u001b[0m, in \u001b[0;36mselect\u001b[1;34m(*args, **kw)\u001b[0m\n",
      "File \u001b[1;32m~\\anaconda3\\lib\\site-packages\\sqlalchemy\\sql\\selectable.py:5279\u001b[0m, in \u001b[0;36mSelect._create\u001b[1;34m(cls, *args, **kw)\u001b[0m\n\u001b[0;32m   5227\u001b[0m \u001b[38;5;124mr\u001b[39m\u001b[38;5;124;03m\"\"\"Create a :class:`.Select` using either the 1.x or 2.0 constructor\u001b[39;00m\n\u001b[0;32m   5228\u001b[0m \u001b[38;5;124;03mstyle.\u001b[39;00m\n\u001b[0;32m   5229\u001b[0m \n\u001b[1;32m   (...)\u001b[0m\n\u001b[0;32m   5263\u001b[0m \n\u001b[0;32m   5264\u001b[0m \u001b[38;5;124;03m\"\"\"\u001b[39;00m\n\u001b[0;32m   5265\u001b[0m \u001b[38;5;28;01mif\u001b[39;00m (\n\u001b[0;32m   5266\u001b[0m     args\n\u001b[0;32m   5267\u001b[0m     \u001b[38;5;129;01mand\u001b[39;00m (\n\u001b[1;32m   (...)\u001b[0m\n\u001b[0;32m   5277\u001b[0m     )\n\u001b[0;32m   5278\u001b[0m ) \u001b[38;5;129;01mor\u001b[39;00m kw:\n\u001b[1;32m-> 5279\u001b[0m     \u001b[38;5;28;01mreturn\u001b[39;00m \u001b[38;5;28mcls\u001b[39m\u001b[38;5;241m.\u001b[39mcreate_legacy_select(\u001b[38;5;241m*\u001b[39margs, \u001b[38;5;241m*\u001b[39m\u001b[38;5;241m*\u001b[39mkw)\n\u001b[0;32m   5280\u001b[0m \u001b[38;5;28;01melse\u001b[39;00m:\n\u001b[0;32m   5281\u001b[0m     \u001b[38;5;28;01mreturn\u001b[39;00m \u001b[38;5;28mcls\u001b[39m\u001b[38;5;241m.\u001b[39m_create_future_select(\u001b[38;5;241m*\u001b[39margs)\n",
      "File \u001b[1;32m<string>:2\u001b[0m, in \u001b[0;36mcreate_legacy_select\u001b[1;34m(cls, columns, whereclause, from_obj, distinct, having, correlate, prefixes, suffixes, **kwargs)\u001b[0m\n",
      "File \u001b[1;32m~\\anaconda3\\lib\\site-packages\\sqlalchemy\\util\\deprecations.py:401\u001b[0m, in \u001b[0;36m_decorate_with_warning.<locals>.warned\u001b[1;34m(fn, *args, **kwargs)\u001b[0m\n\u001b[0;32m    399\u001b[0m \u001b[38;5;28;01mif\u001b[39;00m \u001b[38;5;129;01mnot\u001b[39;00m skip_warning:\n\u001b[0;32m    400\u001b[0m     _warn_with_version(message, version, wtype, stacklevel\u001b[38;5;241m=\u001b[39m\u001b[38;5;241m3\u001b[39m)\n\u001b[1;32m--> 401\u001b[0m \u001b[38;5;28;01mreturn\u001b[39;00m fn(\u001b[38;5;241m*\u001b[39margs, \u001b[38;5;241m*\u001b[39m\u001b[38;5;241m*\u001b[39mkwargs)\n",
      "File \u001b[1;32m~\\anaconda3\\lib\\site-packages\\sqlalchemy\\sql\\selectable.py:5135\u001b[0m, in \u001b[0;36mSelect.create_legacy_select\u001b[1;34m(cls, columns, whereclause, from_obj, distinct, having, correlate, prefixes, suffixes, **kwargs)\u001b[0m\n\u001b[0;32m   5124\u001b[0m     util\u001b[38;5;241m.\u001b[39mraise_(\n\u001b[0;32m   5125\u001b[0m         exc\u001b[38;5;241m.\u001b[39mArgumentError(\n\u001b[0;32m   5126\u001b[0m             \u001b[38;5;124m\"\u001b[39m\u001b[38;5;124mselect() construct created in legacy mode, i.e. with \u001b[39m\u001b[38;5;124m\"\u001b[39m\n\u001b[1;32m   (...)\u001b[0m\n\u001b[0;32m   5131\u001b[0m         from_\u001b[38;5;241m=\u001b[39merr,\n\u001b[0;32m   5132\u001b[0m     )\n\u001b[0;32m   5134\u001b[0m \u001b[38;5;28;01mif\u001b[39;00m cols_present:\n\u001b[1;32m-> 5135\u001b[0m     \u001b[38;5;28mself\u001b[39m\u001b[38;5;241m.\u001b[39m_raw_columns \u001b[38;5;241m=\u001b[39m [\n\u001b[0;32m   5136\u001b[0m         coercions\u001b[38;5;241m.\u001b[39mexpect(\n\u001b[0;32m   5137\u001b[0m             roles\u001b[38;5;241m.\u001b[39mColumnsClauseRole, c, apply_propagate_attrs\u001b[38;5;241m=\u001b[39m\u001b[38;5;28mself\u001b[39m\n\u001b[0;32m   5138\u001b[0m         )\n\u001b[0;32m   5139\u001b[0m         \u001b[38;5;28;01mfor\u001b[39;00m c \u001b[38;5;129;01min\u001b[39;00m columns\n\u001b[0;32m   5140\u001b[0m     ]\n\u001b[0;32m   5141\u001b[0m \u001b[38;5;28;01melse\u001b[39;00m:\n\u001b[0;32m   5142\u001b[0m     \u001b[38;5;28mself\u001b[39m\u001b[38;5;241m.\u001b[39m_raw_columns \u001b[38;5;241m=\u001b[39m []\n",
      "File \u001b[1;32m~\\anaconda3\\lib\\site-packages\\sqlalchemy\\sql\\selectable.py:5136\u001b[0m, in \u001b[0;36m<listcomp>\u001b[1;34m(.0)\u001b[0m\n\u001b[0;32m   5124\u001b[0m     util\u001b[38;5;241m.\u001b[39mraise_(\n\u001b[0;32m   5125\u001b[0m         exc\u001b[38;5;241m.\u001b[39mArgumentError(\n\u001b[0;32m   5126\u001b[0m             \u001b[38;5;124m\"\u001b[39m\u001b[38;5;124mselect() construct created in legacy mode, i.e. with \u001b[39m\u001b[38;5;124m\"\u001b[39m\n\u001b[1;32m   (...)\u001b[0m\n\u001b[0;32m   5131\u001b[0m         from_\u001b[38;5;241m=\u001b[39merr,\n\u001b[0;32m   5132\u001b[0m     )\n\u001b[0;32m   5134\u001b[0m \u001b[38;5;28;01mif\u001b[39;00m cols_present:\n\u001b[0;32m   5135\u001b[0m     \u001b[38;5;28mself\u001b[39m\u001b[38;5;241m.\u001b[39m_raw_columns \u001b[38;5;241m=\u001b[39m [\n\u001b[1;32m-> 5136\u001b[0m         \u001b[43mcoercions\u001b[49m\u001b[38;5;241;43m.\u001b[39;49m\u001b[43mexpect\u001b[49m\u001b[43m(\u001b[49m\n\u001b[0;32m   5137\u001b[0m \u001b[43m            \u001b[49m\u001b[43mroles\u001b[49m\u001b[38;5;241;43m.\u001b[39;49m\u001b[43mColumnsClauseRole\u001b[49m\u001b[43m,\u001b[49m\u001b[43m \u001b[49m\u001b[43mc\u001b[49m\u001b[43m,\u001b[49m\u001b[43m \u001b[49m\u001b[43mapply_propagate_attrs\u001b[49m\u001b[38;5;241;43m=\u001b[39;49m\u001b[38;5;28;43mself\u001b[39;49m\n\u001b[0;32m   5138\u001b[0m \u001b[43m        \u001b[49m\u001b[43m)\u001b[49m\n\u001b[0;32m   5139\u001b[0m         \u001b[38;5;28;01mfor\u001b[39;00m c \u001b[38;5;129;01min\u001b[39;00m columns\n\u001b[0;32m   5140\u001b[0m     ]\n\u001b[0;32m   5141\u001b[0m \u001b[38;5;28;01melse\u001b[39;00m:\n\u001b[0;32m   5142\u001b[0m     \u001b[38;5;28mself\u001b[39m\u001b[38;5;241m.\u001b[39m_raw_columns \u001b[38;5;241m=\u001b[39m []\n",
      "File \u001b[1;32m~\\anaconda3\\lib\\site-packages\\sqlalchemy\\sql\\coercions.py:188\u001b[0m, in \u001b[0;36mexpect\u001b[1;34m(role, element, apply_propagate_attrs, argname, post_inspect, **kw)\u001b[0m\n\u001b[0;32m    185\u001b[0m                 impl\u001b[38;5;241m.\u001b[39m_raise_for_expected(original_element, argname)\n\u001b[0;32m    187\u001b[0m     \u001b[38;5;28;01mif\u001b[39;00m resolved \u001b[38;5;129;01mis\u001b[39;00m \u001b[38;5;28;01mNone\u001b[39;00m:\n\u001b[1;32m--> 188\u001b[0m         resolved \u001b[38;5;241m=\u001b[39m impl\u001b[38;5;241m.\u001b[39m_literal_coercion(\n\u001b[0;32m    189\u001b[0m             element, argname\u001b[38;5;241m=\u001b[39margname, \u001b[38;5;241m*\u001b[39m\u001b[38;5;241m*\u001b[39mkw\n\u001b[0;32m    190\u001b[0m         )\n\u001b[0;32m    191\u001b[0m \u001b[38;5;28;01melse\u001b[39;00m:\n\u001b[0;32m    192\u001b[0m     resolved \u001b[38;5;241m=\u001b[39m element\n",
      "File \u001b[1;32m~\\anaconda3\\lib\\site-packages\\sqlalchemy\\sql\\coercions.py:388\u001b[0m, in \u001b[0;36m_CoerceLiterals._literal_coercion\u001b[1;34m(self, element, argname, **kw)\u001b[0m\n\u001b[0;32m    386\u001b[0m         \u001b[38;5;28;01mreturn\u001b[39;00m elements\u001b[38;5;241m.\u001b[39mColumnClause(\u001b[38;5;124m\"\u001b[39m\u001b[38;5;124m*\u001b[39m\u001b[38;5;124m\"\u001b[39m, is_literal\u001b[38;5;241m=\u001b[39m\u001b[38;5;28;01mTrue\u001b[39;00m)\n\u001b[0;32m    387\u001b[0m     \u001b[38;5;28;01melse\u001b[39;00m:\n\u001b[1;32m--> 388\u001b[0m         \u001b[38;5;28;01mreturn\u001b[39;00m \u001b[38;5;28mself\u001b[39m\u001b[38;5;241m.\u001b[39m_text_coercion(element, argname, \u001b[38;5;241m*\u001b[39m\u001b[38;5;241m*\u001b[39mkw)\n\u001b[0;32m    390\u001b[0m \u001b[38;5;28;01mif\u001b[39;00m \u001b[38;5;28mself\u001b[39m\u001b[38;5;241m.\u001b[39m_coerce_consts:\n\u001b[0;32m    391\u001b[0m     \u001b[38;5;28;01mif\u001b[39;00m element \u001b[38;5;129;01mis\u001b[39;00m \u001b[38;5;28;01mNone\u001b[39;00m:\n",
      "File \u001b[1;32m~\\anaconda3\\lib\\site-packages\\sqlalchemy\\sql\\coercions.py:839\u001b[0m, in \u001b[0;36mColumnsClauseImpl._text_coercion\u001b[1;34m(self, element, argname)\u001b[0m\n\u001b[0;32m    836\u001b[0m element \u001b[38;5;241m=\u001b[39m \u001b[38;5;28mstr\u001b[39m(element)\n\u001b[0;32m    838\u001b[0m guess_is_literal \u001b[38;5;241m=\u001b[39m \u001b[38;5;129;01mnot\u001b[39;00m \u001b[38;5;28mself\u001b[39m\u001b[38;5;241m.\u001b[39m_guess_straight_column\u001b[38;5;241m.\u001b[39mmatch(element)\n\u001b[1;32m--> 839\u001b[0m \u001b[38;5;28;01mraise\u001b[39;00m exc\u001b[38;5;241m.\u001b[39mArgumentError(\n\u001b[0;32m    840\u001b[0m     \u001b[38;5;124m\"\u001b[39m\u001b[38;5;124mTextual column expression \u001b[39m\u001b[38;5;132;01m%(column)r\u001b[39;00m\u001b[38;5;124m \u001b[39m\u001b[38;5;132;01m%(argname)s\u001b[39;00m\u001b[38;5;124mshould be \u001b[39m\u001b[38;5;124m\"\u001b[39m\n\u001b[0;32m    841\u001b[0m     \u001b[38;5;124m\"\u001b[39m\u001b[38;5;124mexplicitly declared with text(\u001b[39m\u001b[38;5;132;01m%(column)r\u001b[39;00m\u001b[38;5;124m), \u001b[39m\u001b[38;5;124m\"\u001b[39m\n\u001b[0;32m    842\u001b[0m     \u001b[38;5;124m\"\u001b[39m\u001b[38;5;124mor use \u001b[39m\u001b[38;5;132;01m%(literal_column)s\u001b[39;00m\u001b[38;5;124m(\u001b[39m\u001b[38;5;132;01m%(column)r\u001b[39;00m\u001b[38;5;124m) \u001b[39m\u001b[38;5;124m\"\u001b[39m\n\u001b[0;32m    843\u001b[0m     \u001b[38;5;124m\"\u001b[39m\u001b[38;5;124mfor more specificity\u001b[39m\u001b[38;5;124m\"\u001b[39m\n\u001b[0;32m    844\u001b[0m     \u001b[38;5;241m%\u001b[39m {\n\u001b[0;32m    845\u001b[0m         \u001b[38;5;124m\"\u001b[39m\u001b[38;5;124mcolumn\u001b[39m\u001b[38;5;124m\"\u001b[39m: util\u001b[38;5;241m.\u001b[39mellipses_string(element),\n\u001b[0;32m    846\u001b[0m         \u001b[38;5;124m\"\u001b[39m\u001b[38;5;124margname\u001b[39m\u001b[38;5;124m\"\u001b[39m: \u001b[38;5;124m\"\u001b[39m\u001b[38;5;124mfor argument \u001b[39m\u001b[38;5;132;01m%s\u001b[39;00m\u001b[38;5;124m\"\u001b[39m \u001b[38;5;241m%\u001b[39m (argname,) \u001b[38;5;28;01mif\u001b[39;00m argname \u001b[38;5;28;01melse\u001b[39;00m \u001b[38;5;124m\"\u001b[39m\u001b[38;5;124m\"\u001b[39m,\n\u001b[0;32m    847\u001b[0m         \u001b[38;5;124m\"\u001b[39m\u001b[38;5;124mliteral_column\u001b[39m\u001b[38;5;124m\"\u001b[39m: \u001b[38;5;124m\"\u001b[39m\u001b[38;5;124mliteral_column\u001b[39m\u001b[38;5;124m\"\u001b[39m\n\u001b[0;32m    848\u001b[0m         \u001b[38;5;28;01mif\u001b[39;00m guess_is_literal\n\u001b[0;32m    849\u001b[0m         \u001b[38;5;28;01melse\u001b[39;00m \u001b[38;5;124m\"\u001b[39m\u001b[38;5;124mcolumn\u001b[39m\u001b[38;5;124m\"\u001b[39m,\n\u001b[0;32m    850\u001b[0m     }\n\u001b[0;32m    851\u001b[0m )\n",
      "\u001b[1;31mArgumentError\u001b[0m: Textual column expression 'students' should be explicitly declared with text('students'), or use column('students') for more specificity"
     ]
    }
   ],
   "source": [
    "from sqlalchemy.sql import select\n",
    "s = select(['students'])\n",
    "result = conn.execute(s)"
   ]
  },
  {
   "cell_type": "markdown",
   "id": "f973c86a",
   "metadata": {},
   "source": [
    "alternative select using plain text "
   ]
  },
  {
   "cell_type": "code",
   "execution_count": 42,
   "id": "8df74541",
   "metadata": {},
   "outputs": [
    {
     "name": "stdout",
     "output_type": "stream",
     "text": [
      "2023-06-02 13:41:39,977 INFO sqlalchemy.engine.Engine SELECT * FROM students\n",
      "2023-06-02 13:41:39,979 INFO sqlalchemy.engine.Engine [cached since 45.81s ago] ()\n",
      "(1, 'Vijay', 'Rai')\n",
      "(3, 'Komal', 'Bhandari')\n",
      "(4, 'Abdul', 'Sattar')\n",
      "(5, 'Priya', 'Rajhans')\n",
      "(6, 'Vijay', 'Rai')\n",
      "(7, 'Vijajhhy', 'Rai')\n",
      "(8, 'Kasdsran', None)\n",
      "(9, 'Rajdfsdiv', 'Khanna')\n",
      "(10, 'Komadfsfl', 'Bhandari')\n",
      "(11, 'Abddfsdul', 'Sattar')\n",
      "(12, 'Prisdfsdya', 'Rajhans')\n",
      "(13, 'Rajdfsdiv', 'Khanna')\n",
      "(14, 'Komadfsfl', 'Bhandari')\n",
      "(15, 'Abddfsdul', 'Sattar')\n",
      "(16, 'Prisdfsdya', 'Rajhans')\n"
     ]
    }
   ],
   "source": [
    "from sqlalchemy import text\n",
    "t = text(\"SELECT * FROM students\")\n",
    "conn = engine.connect()\n",
    "result = conn.execute(t)\n",
    "for i in result:\n",
    "    print(i)"
   ]
  },
  {
   "cell_type": "code",
   "execution_count": null,
   "id": "91636e0a",
   "metadata": {},
   "outputs": [],
   "source": [
    "alternative select stament with where clause using plain text"
   ]
  },
  {
   "cell_type": "code",
   "execution_count": 43,
   "id": "4fa91c26",
   "metadata": {},
   "outputs": [
    {
     "name": "stdout",
     "output_type": "stream",
     "text": [
      "2023-06-02 13:43:24,878 INFO sqlalchemy.engine.Engine select students.name, students.lastname from students where students.name between ? and ?\n",
      "2023-06-02 13:43:24,879 INFO sqlalchemy.engine.Engine [generated in 0.00101s] ('A', 'L')\n"
     ]
    },
    {
     "data": {
      "text/plain": [
       "[('Komal', 'Bhandari'),\n",
       " ('Abdul', 'Sattar'),\n",
       " ('Kasdsran', None),\n",
       " ('Komadfsfl', 'Bhandari'),\n",
       " ('Abddfsdul', 'Sattar'),\n",
       " ('Komadfsfl', 'Bhandari'),\n",
       " ('Abddfsdul', 'Sattar')]"
      ]
     },
     "execution_count": 43,
     "metadata": {},
     "output_type": "execute_result"
    }
   ],
   "source": [
    "from sqlalchemy.sql import text\n",
    "s = text(\"select students.name, students.lastname from students where students.name between :x and :y\")\n",
    "conn = conn = engine.connect()\n",
    "conn.execute(s, x = 'A', y = 'L').fetchall()"
   ]
  },
  {
   "cell_type": "markdown",
   "id": "1277867b",
   "metadata": {},
   "source": [
    "and to combinen multiple where clause. To fetch all the rows with names between “A” and “L” and with id greater than 2."
   ]
  },
  {
   "cell_type": "code",
   "execution_count": 45,
   "id": "0ba48819",
   "metadata": {},
   "outputs": [
    {
     "name": "stdout",
     "output_type": "stream",
     "text": [
      "2023-06-02 13:47:17,826 INFO sqlalchemy.engine.Engine SELECT * from students \n",
      "WHERE students.name between ? and ? AND students.id>5\n",
      "2023-06-02 13:47:17,826 INFO sqlalchemy.engine.Engine [generated in 0.00071s] ('A', 'L')\n"
     ]
    },
    {
     "data": {
      "text/plain": [
       "[(8, 'Kasdsran', None),\n",
       " (10, 'Komadfsfl', 'Bhandari'),\n",
       " (11, 'Abddfsdul', 'Sattar'),\n",
       " (14, 'Komadfsfl', 'Bhandari'),\n",
       " (15, 'Abddfsdul', 'Sattar')]"
      ]
     },
     "execution_count": 45,
     "metadata": {},
     "output_type": "execute_result"
    }
   ],
   "source": [
    "from sqlalchemy import and_\n",
    "from sqlalchemy.sql import select\n",
    "s = select([text(\"* from students\")]) \\\n",
    ".where(\n",
    "   and_(\n",
    "      text(\"students.name between :x and :y\"),\n",
    "      text(\"students.id>5\")\n",
    "   )\n",
    ")\n",
    "conn.execute(s, x = 'A', y = 'L').fetchall()"
   ]
  },
  {
   "cell_type": "markdown",
   "id": "4c21f52e",
   "metadata": {},
   "source": [
    "update method. \n",
    "update row where last name is khanna and set its value to kapoor"
   ]
  },
  {
   "cell_type": "code",
   "execution_count": 46,
   "id": "ec9db8e5",
   "metadata": {},
   "outputs": [
    {
     "name": "stdout",
     "output_type": "stream",
     "text": [
      "2023-06-02 13:51:27,016 INFO sqlalchemy.engine.Engine UPDATE students SET lastname=? WHERE students.lastname = ?\n",
      "2023-06-02 13:51:27,017 INFO sqlalchemy.engine.Engine [generated in 0.00126s] ('Kapoor', 'Khanna')\n",
      "2023-06-02 13:51:27,023 INFO sqlalchemy.engine.Engine COMMIT\n",
      "2023-06-02 13:51:27,028 INFO sqlalchemy.engine.Engine SELECT students.id, students.name, students.lastname \n",
      "FROM students\n",
      "2023-06-02 13:51:27,029 INFO sqlalchemy.engine.Engine [cached since 1153s ago] ()\n"
     ]
    },
    {
     "data": {
      "text/plain": [
       "[(1, 'Vijay', 'Rai'),\n",
       " (3, 'Komal', 'Bhandari'),\n",
       " (4, 'Abdul', 'Sattar'),\n",
       " (5, 'Priya', 'Rajhans'),\n",
       " (6, 'Vijay', 'Rai'),\n",
       " (7, 'Vijajhhy', 'Rai'),\n",
       " (8, 'Kasdsran', None),\n",
       " (9, 'Rajdfsdiv', 'Kapoor'),\n",
       " (10, 'Komadfsfl', 'Bhandari'),\n",
       " (11, 'Abddfsdul', 'Sattar'),\n",
       " (12, 'Prisdfsdya', 'Rajhans'),\n",
       " (13, 'Rajdfsdiv', 'Kapoor'),\n",
       " (14, 'Komadfsfl', 'Bhandari'),\n",
       " (15, 'Abddfsdul', 'Sattar'),\n",
       " (16, 'Prisdfsdya', 'Rajhans')]"
      ]
     },
     "execution_count": 46,
     "metadata": {},
     "output_type": "execute_result"
    }
   ],
   "source": [
    "#creating the conncetion with connection object\n",
    "conn = engine.connect()\n",
    "\n",
    "#update object\n",
    "stmt=students.update().where(students.columns.lastname=='Khanna').values(lastname='Kapoor')\n",
    "\n",
    "#execute the update stament\n",
    "conn.execute(stmt)\n",
    "\n",
    "#display result\n",
    "s = students.select()\n",
    "conn.execute(s).fetchall()"
   ]
  },
  {
   "cell_type": "code",
   "execution_count": 51,
   "id": "b7f7fdfa",
   "metadata": {
    "scrolled": true
   },
   "outputs": [
    {
     "name": "stdout",
     "output_type": "stream",
     "text": [
      "2023-06-02 13:55:04,901 INFO sqlalchemy.engine.Engine UPDATE students SET lastname=? WHERE students.lastname = ?\n",
      "2023-06-02 13:55:04,902 INFO sqlalchemy.engine.Engine [cached since 217.9s ago] ('pappu', 'Kapoor')\n",
      "2023-06-02 13:55:04,904 INFO sqlalchemy.engine.Engine COMMIT\n"
     ]
    },
    {
     "data": {
      "text/plain": [
       "<sqlalchemy.engine.cursor.LegacyCursorResult at 0x25a06886580>"
      ]
     },
     "execution_count": 51,
     "metadata": {},
     "output_type": "execute_result"
    }
   ],
   "source": [
    "#alternate method to update but will have to import update from sqlalchemy\n",
    "\n",
    "from sqlalchemy.sql.expression import update\n",
    "stmt = update(students).where(students.c.lastname == 'Kapoor').values(lastname = 'pappu')\n",
    "\n",
    "#creating the conncetion with connection object\n",
    "conn = engine.connect()\n",
    "\n",
    "#exceute the update statemnet\n",
    "conn.execute(stmt)\n",
    "\n",
    "#dispaly result\n",
    "s = students.select()\n",
    "conn.execute(s).fetchall()"
   ]
  },
  {
   "cell_type": "markdown",
   "id": "c3ddaac9",
   "metadata": {},
   "source": [
    "delete statement"
   ]
  },
  {
   "cell_type": "code",
   "execution_count": 53,
   "id": "f36fe602",
   "metadata": {},
   "outputs": [],
   "source": [
    "#delete all rows from table\n",
    "#stmt = students.delete()\n",
    "#conn.execute(stmt)\n",
    "\n",
    "#connecting to \n",
    "conn = engine.connect()\n",
    "\n",
    "#creation of delete object\n",
    "stmt = students.delete().where(students.c.lastname == 'Khanna')\n",
    "\n",
    "#execute the delete statement\n",
    "conn.execute(stmt)\n",
    "\n",
    "#fetch the result may also use the for loop instead\n",
    "s = students.select()\n",
    "conn.execute(s).fetchall()"
   ]
  },
  {
   "cell_type": "code",
   "execution_count": 54,
   "id": "3d5a37a4",
   "metadata": {},
   "outputs": [
    {
     "name": "stdout",
     "output_type": "stream",
     "text": [
      "2023-06-02 13:58:21,238 INFO sqlalchemy.engine.Engine DELETE FROM students\n",
      "2023-06-02 13:58:21,240 INFO sqlalchemy.engine.Engine [generated in 0.00148s] ()\n",
      "2023-06-02 13:58:21,241 INFO sqlalchemy.engine.Engine COMMIT\n"
     ]
    },
    {
     "data": {
      "text/plain": [
       "<sqlalchemy.engine.cursor.LegacyCursorResult at 0x25a08715fd0>"
      ]
     },
     "execution_count": 54,
     "metadata": {},
     "output_type": "execute_result"
    }
   ],
   "source": [
    "\n"
   ]
  },
  {
   "cell_type": "markdown",
   "id": "a07fce38",
   "metadata": {},
   "source": [
    "creation of two table with one foreign key.The st_id column in addresses table refers to id column in students table. use this relation to fetch data from both the tables. fetch name and lastname from students table corresponding to st_id in the addresses table.the follwing code is equivalent to\n",
    "SELECT students.id, \n",
    "   students.name, \n",
    "   students.lastname, \n",
    "   addresses.id, \n",
    "   addresses.st_id, \n",
    "   addresses.postal_add, \n",
    "   addresses.email_add\n",
    "FROM students, addresses\n",
    "WHERE students.id = addresses.st_id"
   ]
  },
  {
   "cell_type": "code",
   "execution_count": 67,
   "id": "a10a83e0",
   "metadata": {
    "scrolled": true
   },
   "outputs": [
    {
     "name": "stdout",
     "output_type": "stream",
     "text": [
      "2023-06-02 14:27:50,236 INFO sqlalchemy.engine.Engine BEGIN (implicit)\n",
      "2023-06-02 14:27:50,236 INFO sqlalchemy.engine.Engine PRAGMA main.table_info(\"students\")\n",
      "2023-06-02 14:27:50,238 INFO sqlalchemy.engine.Engine [raw sql] ()\n",
      "2023-06-02 14:27:50,239 INFO sqlalchemy.engine.Engine PRAGMA main.table_info(\"addresses\")\n",
      "2023-06-02 14:27:50,240 INFO sqlalchemy.engine.Engine [raw sql] ()\n",
      "2023-06-02 14:27:50,241 INFO sqlalchemy.engine.Engine COMMIT\n",
      "2023-06-02 14:27:50,242 INFO sqlalchemy.engine.Engine INSERT INTO students (name, lastname) VALUES (?, ?)\n",
      "2023-06-02 14:27:50,243 INFO sqlalchemy.engine.Engine [generated in 0.00060s] (('Ravi', 'Kapoor'), ('Rajiv', 'Khanna'), ('Komal', 'Bhandari'), ('Abdul', 'Sattar'), ('Priya', 'Rajhans'))\n",
      "2023-06-02 14:27:50,245 INFO sqlalchemy.engine.Engine COMMIT\n",
      "2023-06-02 14:27:50,248 INFO sqlalchemy.engine.Engine INSERT INTO addresses (st_id, postal_add, email_add) VALUES (?, ?, ?)\n",
      "2023-06-02 14:27:50,249 INFO sqlalchemy.engine.Engine [generated in 0.00074s] ((1, 'Shivajinagar Pune', 'ravi@gmail.com'), (1, 'ChurchGate Mumbai', 'kapoor@gmail.com'), (3, 'Jubilee Hills Hyderabad', 'komal@gmail.com'), (5, 'MG Road Bangaluru', 'as@yahoo.com'), (2, 'Cannought Place new Delhi', 'admin@khanna.com'))\n",
      "2023-06-02 14:27:50,251 INFO sqlalchemy.engine.Engine COMMIT\n",
      "2023-06-02 14:27:50,256 INFO sqlalchemy.engine.Engine SELECT students.id, students.name, students.lastname, addresses.id AS id_1, addresses.st_id, addresses.postal_add, addresses.email_add \n",
      "FROM students, addresses \n",
      "WHERE students.id = addresses.st_id\n",
      "2023-06-02 14:27:50,257 INFO sqlalchemy.engine.Engine [generated in 0.00055s] ()\n",
      "(1, 'Ravi', 'Kapoor', 1, 1, 'Shivajinagar Pune', 'ravi@gmail.com')\n",
      "(1, 'Ravi', 'Kapoor', 2, 1, 'ChurchGate Mumbai', 'kapoor@gmail.com')\n",
      "(3, 'Komal', 'Bhandari', 3, 3, 'Jubilee Hills Hyderabad', 'komal@gmail.com')\n",
      "(5, 'Priya', 'Rajhans', 4, 5, 'MG Road Bangaluru', 'as@yahoo.com')\n",
      "(2, 'Rajiv', 'Khanna', 5, 2, 'Cannought Place new Delhi', 'admin@khanna.com')\n",
      "(1, 'Ravi', 'Kapoor', 6, 1, 'Shivajinagar Pune', 'ravi@gmail.com')\n",
      "(1, 'Ravi', 'Kapoor', 7, 1, 'ChurchGate Mumbai', 'kapoor@gmail.com')\n",
      "(3, 'Komal', 'Bhandari', 8, 3, 'Jubilee Hills Hyderabad', 'komal@gmail.com')\n",
      "(5, 'Priya', 'Rajhans', 9, 5, 'MG Road Bangaluru', 'as@yahoo.com')\n",
      "(2, 'Rajiv', 'Khanna', 10, 2, 'Cannought Place new Delhi', 'admin@khanna.com')\n",
      "(1, 'Ravi', 'Kapoor', 11, 1, 'Shivajinagar Pune', 'ravi@gmail.com')\n",
      "(1, 'Ravi', 'Kapoor', 12, 1, 'ChurchGate Mumbai', 'kapoor@gmail.com')\n",
      "(3, 'Komal', 'Bhandari', 13, 3, 'Jubilee Hills Hyderabad', 'komal@gmail.com')\n",
      "(5, 'Priya', 'Rajhans', 14, 5, 'MG Road Bangaluru', 'as@yahoo.com')\n",
      "(2, 'Rajiv', 'Khanna', 15, 2, 'Cannought Place new Delhi', 'admin@khanna.com')\n",
      "(1, 'Ravi', 'Kapoor', 16, 1, 'Shivajinagar Pune', 'ravi@gmail.com')\n",
      "(1, 'Ravi', 'Kapoor', 17, 1, 'ChurchGate Mumbai', 'kapoor@gmail.com')\n",
      "(3, 'Komal', 'Bhandari', 18, 3, 'Jubilee Hills Hyderabad', 'komal@gmail.com')\n",
      "(5, 'Priya', 'Rajhans', 19, 5, 'MG Road Bangaluru', 'as@yahoo.com')\n",
      "(2, 'Rajiv', 'Khanna', 20, 2, 'Cannought Place new Delhi', 'admin@khanna.com')\n"
     ]
    }
   ],
   "source": [
    "from sqlalchemy import create_engine, MetaData, Table, Column, Integer, String, ForeignKey\n",
    "engine = create_engine('sqlite:///college.db', echo=True)\n",
    "meta = MetaData()\n",
    "\n",
    "#defination of table students\n",
    "students = Table(\n",
    "   'students', meta, \n",
    "   Column('id', Integer, primary_key = True), \n",
    "   Column('name', String), \n",
    "   Column('lastname', String), \n",
    ")\n",
    "\n",
    "#define the table addresses\n",
    "addresses = Table(\n",
    "   'addresses', meta, \n",
    "   Column('id', Integer, primary_key = True), \n",
    "   Column('st_id', Integer, ForeignKey('students.id')), \n",
    "   Column('postal_add', String), \n",
    "   Column('email_add', String))\n",
    "\n",
    "#create the tables\n",
    "meta.create_all(engine)\n",
    "\n",
    "#insert into table table students\n",
    "conn.execute(students.insert(), [\n",
    "   {'name':'Ravi', 'lastname':'Kapoor'},\n",
    "   {'name':'Rajiv', 'lastname' : 'Khanna'},\n",
    "   {'name':'Komal','lastname' : 'Bhandari'},\n",
    "   {'name':'Abdul','lastname' : 'Sattar'},\n",
    "   {'name':'Priya','lastname' : 'Rajhans'},\n",
    "])\n",
    "\n",
    "#insert into table address\n",
    "conn.execute(addresses.insert(), [\n",
    "   {'st_id':1, 'postal_add':'Shivajinagar Pune', 'email_add':'ravi@gmail.com'},\n",
    "   {'st_id':1, 'postal_add':'ChurchGate Mumbai', 'email_add':'kapoor@gmail.com'},\n",
    "   {'st_id':3, 'postal_add':'Jubilee Hills Hyderabad', 'email_add':'komal@gmail.com'},\n",
    "   {'st_id':5, 'postal_add':'MG Road Bangaluru', 'email_add':'as@yahoo.com'},\n",
    "   {'st_id':2, 'postal_add':'Cannought Place new Delhi', 'email_add':'admin@khanna.com'},\n",
    "])\n",
    "\n",
    "\n",
    "from sqlalchemy.sql import select\n",
    "s = select([students, addresses]).where(students.c.id == addresses.c.st_id)\n",
    "result = conn.execute(s)\n",
    "\n",
    "for row in result:\n",
    "    print (row)"
   ]
  },
  {
   "cell_type": "code",
   "execution_count": null,
   "id": "f25addd7",
   "metadata": {},
   "outputs": [],
   "source": []
  },
  {
   "cell_type": "code",
   "execution_count": 66,
   "id": "6e0268ee",
   "metadata": {},
   "outputs": [
    {
     "name": "stdout",
     "output_type": "stream",
     "text": [
      "2023-06-02 14:26:30,607 INFO sqlalchemy.engine.Engine SELECT students.id, students.name, students.lastname, addresses.id AS id_1, addresses.st_id, addresses.postal_add, addresses.email_add \n",
      "FROM students, addresses \n",
      "WHERE students.id = addresses.st_id\n",
      "2023-06-02 14:26:30,609 INFO sqlalchemy.engine.Engine [cached since 146.7s ago] ()\n",
      "(1, 'Ravi', 'Kapoor', 1, 1, 'Shivajinagar Pune', 'ravi@gmail.com')\n",
      "(1, 'Ravi', 'Kapoor', 2, 1, 'ChurchGate Mumbai', 'kapoor@gmail.com')\n",
      "(3, 'Komal', 'Bhandari', 3, 3, 'Jubilee Hills Hyderabad', 'komal@gmail.com')\n",
      "(5, 'Priya', 'Rajhans', 4, 5, 'MG Road Bangaluru', 'as@yahoo.com')\n",
      "(2, 'Rajiv', 'Khanna', 5, 2, 'Cannought Place new Delhi', 'admin@khanna.com')\n",
      "(1, 'Ravi', 'Kapoor', 6, 1, 'Shivajinagar Pune', 'ravi@gmail.com')\n",
      "(1, 'Ravi', 'Kapoor', 7, 1, 'ChurchGate Mumbai', 'kapoor@gmail.com')\n",
      "(3, 'Komal', 'Bhandari', 8, 3, 'Jubilee Hills Hyderabad', 'komal@gmail.com')\n",
      "(5, 'Priya', 'Rajhans', 9, 5, 'MG Road Bangaluru', 'as@yahoo.com')\n",
      "(2, 'Rajiv', 'Khanna', 10, 2, 'Cannought Place new Delhi', 'admin@khanna.com')\n",
      "(1, 'Ravi', 'Kapoor', 11, 1, 'Shivajinagar Pune', 'ravi@gmail.com')\n",
      "(1, 'Ravi', 'Kapoor', 12, 1, 'ChurchGate Mumbai', 'kapoor@gmail.com')\n",
      "(3, 'Komal', 'Bhandari', 13, 3, 'Jubilee Hills Hyderabad', 'komal@gmail.com')\n",
      "(5, 'Priya', 'Rajhans', 14, 5, 'MG Road Bangaluru', 'as@yahoo.com')\n",
      "(2, 'Rajiv', 'Khanna', 15, 2, 'Cannought Place new Delhi', 'admin@khanna.com')\n"
     ]
    }
   ],
   "source": []
  },
  {
   "cell_type": "code",
   "execution_count": 74,
   "id": "5e8ce154",
   "metadata": {},
   "outputs": [
    {
     "data": {
      "text/plain": [
       "\"\\nthis is alo not supported in sqllite\\nstmt = students.delete().   where(students.c.id == addresses.c.id).   where(addresses.c.email_add.startswith('xyz%'))\\nconn.execute(stmt)\\n\""
      ]
     },
     "execution_count": 74,
     "metadata": {},
     "output_type": "execute_result"
    }
   ],
   "source": [
    "\"\"\"sqlite does not support multiple-table criteria within UPDATE but the As far as MySQL dialect is\n",
    "concerned, multiple tables can be embedded into a single UPDATE statement separated by a comma as\n",
    "given below −\n",
    "stmt = students.update().\\\n",
    "   values(name = 'xyz').\\\n",
    "   where(students.c.id == addresses.c.id)\n",
    "result = conn.execute(stmt)\n",
    "\"\"\"\n",
    "\n",
    "\"\"\"\n",
    "this is alo not supported in sqllite\n",
    "stmt = students.delete().\\\n",
    "   where(students.c.id == addresses.c.id).\\\n",
    "   where(addresses.c.email_add.startswith('xyz%'))\n",
    "conn.execute(stmt)\n",
    "\"\"\""
   ]
  },
  {
   "cell_type": "markdown",
   "id": "85207b87",
   "metadata": {},
   "source": [
    "joins"
   ]
  },
  {
   "cell_type": "code",
   "execution_count": 75,
   "id": "ef279941",
   "metadata": {},
   "outputs": [
    {
     "name": "stdout",
     "output_type": "stream",
     "text": [
      "2023-06-02 14:38:35,868 INFO sqlalchemy.engine.Engine SELECT students.id, students.name, students.lastname \n",
      "FROM students JOIN addresses ON students.id = addresses.st_id\n",
      "2023-06-02 14:38:35,870 INFO sqlalchemy.engine.Engine [generated in 0.00150s] ()\n"
     ]
    },
    {
     "data": {
      "text/plain": [
       "[(1, 'Ravi', 'Kapoor'),\n",
       " (1, 'Ravi', 'Kapoor'),\n",
       " (3, 'Komal', 'Bhandari'),\n",
       " (5, 'Priya', 'Rajhans'),\n",
       " (2, 'Rajiv', 'Khanna'),\n",
       " (1, 'Ravi', 'Kapoor'),\n",
       " (1, 'Ravi', 'Kapoor'),\n",
       " (3, 'Komal', 'Bhandari'),\n",
       " (5, 'Priya', 'Rajhans'),\n",
       " (2, 'Rajiv', 'Khanna'),\n",
       " (1, 'Ravi', 'Kapoor'),\n",
       " (1, 'Ravi', 'Kapoor'),\n",
       " (3, 'Komal', 'Bhandari'),\n",
       " (5, 'Priya', 'Rajhans'),\n",
       " (2, 'Rajiv', 'Khanna'),\n",
       " (1, 'Ravi', 'Kapoor'),\n",
       " (1, 'Ravi', 'Kapoor'),\n",
       " (3, 'Komal', 'Bhandari'),\n",
       " (5, 'Priya', 'Rajhans'),\n",
       " (2, 'Rajiv', 'Khanna')]"
      ]
     },
     "execution_count": 75,
     "metadata": {},
     "output_type": "execute_result"
    }
   ],
   "source": [
    "\n",
    "from sqlalchemy import join\n",
    "from sqlalchemy.sql import select\n",
    "j = students.join(addresses, students.c.id == addresses.c.st_id)\n",
    "stmt = select([students]).select_from(j)\n",
    "result = conn.execute(stmt)\n",
    "result.fetchall()"
   ]
  },
  {
   "cell_type": "markdown",
   "id": "86803098",
   "metadata": {},
   "source": [
    "and clause"
   ]
  },
  {
   "cell_type": "code",
   "execution_count": 82,
   "id": "a3eb669f",
   "metadata": {},
   "outputs": [
    {
     "name": "stdout",
     "output_type": "stream",
     "text": [
      "2023-06-02 14:55:31,705 INFO sqlalchemy.engine.Engine SELECT students.id, students.name, students.lastname \n",
      "FROM students \n",
      "WHERE students.name = ? OR students.id < ?\n",
      "2023-06-02 14:55:31,706 INFO sqlalchemy.engine.Engine [generated in 0.00129s] ('Ravi', 3)\n",
      "[(1, 'Ravi', 'Kapoor'), (2, 'Rajiv', 'Khanna'), (6, 'Ravi', 'Kapoor'), (11, 'Ravi', 'Kapoor'), (16, 'Ravi', 'Kapoor')]\n"
     ]
    }
   ],
   "source": [
    "# select from table students where name = ravi and id <5\n",
    "\n",
    "from sqlalchemy import and_, or_\n",
    "\n",
    "# create a elect object with and  clause\n",
    "stmt = select([students]).where(and_(students.c.name == 'Ravi', students.c.id < 5))\n",
    "\n",
    "#create a connection with connection string\n",
    "conn = engine.connect()\n",
    "\n",
    "#execute the stmt\n",
    "result = conn.execute(stmt)\n",
    "\n",
    "#fetch and show result\n",
    "print (result.fetchall())"
   ]
  },
  {
   "cell_type": "markdown",
   "id": "0c98a51c",
   "metadata": {},
   "source": [
    "or clause"
   ]
  },
  {
   "cell_type": "code",
   "execution_count": null,
   "id": "95d78279",
   "metadata": {},
   "outputs": [],
   "source": [
    "# select from table students where name = ravi or id <5\n",
    "\n",
    "from sqlalchemy import and_, or_\n",
    "\n",
    "# create a elect object with or clause\n",
    "stmt = select([students]).where(or_(students.c.name == 'Ravi', students.c.id <3))\n",
    "\n",
    "#create a connection with connection string\n",
    "conn = engine.connect()\n",
    "\n",
    "#exceute the stmt\n",
    "result = conn.execute(stmt)\n",
    "\n",
    "#fetch and print result\n",
    "print (result.fetchall())"
   ]
  },
  {
   "cell_type": "markdown",
   "id": "dfd50f5e",
   "metadata": {},
   "source": [
    "ascending clause"
   ]
  },
  {
   "cell_type": "code",
   "execution_count": 84,
   "id": "b234d6a7",
   "metadata": {},
   "outputs": [
    {
     "name": "stdout",
     "output_type": "stream",
     "text": [
      "2023-06-02 15:01:13,839 INFO sqlalchemy.engine.Engine SELECT students.id, students.name, students.lastname \n",
      "FROM students ORDER BY students.name ASC\n",
      "2023-06-02 15:01:13,840 INFO sqlalchemy.engine.Engine [generated in 0.00113s] ()\n",
      "(4, 'Abdul', 'Sattar')\n",
      "(9, 'Abdul', 'Sattar')\n",
      "(14, 'Abdul', 'Sattar')\n",
      "(19, 'Abdul', 'Sattar')\n",
      "(3, 'Komal', 'Bhandari')\n",
      "(8, 'Komal', 'Bhandari')\n",
      "(13, 'Komal', 'Bhandari')\n",
      "(18, 'Komal', 'Bhandari')\n",
      "(5, 'Priya', 'Rajhans')\n",
      "(10, 'Priya', 'Rajhans')\n",
      "(15, 'Priya', 'Rajhans')\n",
      "(20, 'Priya', 'Rajhans')\n",
      "(2, 'Rajiv', 'Khanna')\n",
      "(7, 'Rajiv', 'Khanna')\n",
      "(12, 'Rajiv', 'Khanna')\n",
      "(17, 'Rajiv', 'Khanna')\n",
      "(1, 'Ravi', 'Kapoor')\n",
      "(6, 'Ravi', 'Kapoor')\n",
      "(11, 'Ravi', 'Kapoor')\n",
      "(16, 'Ravi', 'Kapoor')\n"
     ]
    }
   ],
   "source": [
    "from sqlalchemy import asc\n",
    "stmt = select([students]).order_by(asc(students.c.name))\n",
    "conn = engine.connect()\n",
    "result = conn.execute(stmt)\n",
    "\n",
    "for i in result:\n",
    "    print (i)"
   ]
  },
  {
   "cell_type": "markdown",
   "id": "c9f98da2",
   "metadata": {},
   "source": [
    "desc clause"
   ]
  },
  {
   "cell_type": "code",
   "execution_count": 85,
   "id": "dbbfe581",
   "metadata": {},
   "outputs": [
    {
     "name": "stdout",
     "output_type": "stream",
     "text": [
      "2023-06-02 15:01:57,895 INFO sqlalchemy.engine.Engine SELECT students.id, students.name, students.lastname \n",
      "FROM students ORDER BY students.lastname DESC\n",
      "2023-06-02 15:01:57,897 INFO sqlalchemy.engine.Engine [generated in 0.00065s] ()\n",
      "(4, 'Abdul', 'Sattar')\n",
      "(9, 'Abdul', 'Sattar')\n",
      "(14, 'Abdul', 'Sattar')\n",
      "(19, 'Abdul', 'Sattar')\n",
      "(5, 'Priya', 'Rajhans')\n",
      "(10, 'Priya', 'Rajhans')\n",
      "(15, 'Priya', 'Rajhans')\n",
      "(20, 'Priya', 'Rajhans')\n",
      "(2, 'Rajiv', 'Khanna')\n",
      "(7, 'Rajiv', 'Khanna')\n",
      "(12, 'Rajiv', 'Khanna')\n",
      "(17, 'Rajiv', 'Khanna')\n",
      "(1, 'Ravi', 'Kapoor')\n",
      "(6, 'Ravi', 'Kapoor')\n",
      "(11, 'Ravi', 'Kapoor')\n",
      "(16, 'Ravi', 'Kapoor')\n",
      "(3, 'Komal', 'Bhandari')\n",
      "(8, 'Komal', 'Bhandari')\n",
      "(13, 'Komal', 'Bhandari')\n",
      "(18, 'Komal', 'Bhandari')\n"
     ]
    }
   ],
   "source": [
    "from sqlalchemy import desc\n",
    "stmt = select([students]).order_by(desc(students.c.lastname))\n",
    "conn = engine.connect()\n",
    "result = conn.execute(stmt)\n",
    "\n",
    "for i in result:\n",
    "    print (i)"
   ]
  },
  {
   "cell_type": "markdown",
   "id": "971b7a0d",
   "metadata": {},
   "source": [
    "between "
   ]
  },
  {
   "cell_type": "code",
   "execution_count": 89,
   "id": "13ee4c63",
   "metadata": {},
   "outputs": [
    {
     "name": "stdout",
     "output_type": "stream",
     "text": [
      "2023-06-02 15:27:28,287 INFO sqlalchemy.engine.Engine SELECT students.id, students.name, students.lastname \n",
      "FROM students \n",
      "WHERE students.id BETWEEN ? AND ?\n",
      "2023-06-02 15:27:28,288 INFO sqlalchemy.engine.Engine [cached since 28.02s ago] (2, 4)\n",
      "(2, 'Rajiv', 'Khanna')\n",
      "(3, 'Komal', 'Bhandari')\n",
      "(4, 'Abdul', 'Sattar')\n"
     ]
    }
   ],
   "source": [
    "from sqlalchemy import between\n",
    "stmt = select([students]).where(between(students.c.id,2,4))\n",
    "conn = engine.connect()\n",
    "result = conn.execute(stmt)\n",
    "for i in result:\n",
    "    print(i)"
   ]
  },
  {
   "cell_type": "markdown",
   "id": "580955d5",
   "metadata": {},
   "source": [
    "count"
   ]
  },
  {
   "cell_type": "code",
   "execution_count": 90,
   "id": "52875e80",
   "metadata": {},
   "outputs": [
    {
     "name": "stdout",
     "output_type": "stream",
     "text": [
      "2023-06-02 15:29:02,492 INFO sqlalchemy.engine.Engine SELECT count(students.id) AS count_1 \n",
      "FROM students\n",
      "2023-06-02 15:29:02,494 INFO sqlalchemy.engine.Engine [generated in 0.00181s] ()\n",
      "(20,)\n"
     ]
    }
   ],
   "source": [
    "from sqlalchemy.sql import func\n",
    "result = conn.execute(select([func.count(students.c.id)]))\n",
    "print (result.fetchone())"
   ]
  },
  {
   "cell_type": "markdown",
   "id": "9c151679",
   "metadata": {},
   "source": [
    "max"
   ]
  },
  {
   "cell_type": "code",
   "execution_count": 103,
   "id": "7a3c4668",
   "metadata": {},
   "outputs": [
    {
     "name": "stdout",
     "output_type": "stream",
     "text": [
      "2023-06-02 15:35:48,581 INFO sqlalchemy.engine.Engine SELECT max(students.id) AS max_1 \n",
      "FROM students\n",
      "2023-06-02 15:35:48,582 INFO sqlalchemy.engine.Engine [cached since 332.7s ago] ()\n",
      "(20,)\n"
     ]
    }
   ],
   "source": [
    "#show tha maximaum id\n",
    "from sqlalchemy.sql import func\n",
    "result = conn.execute(select([func.max(students.c.id)]))\n",
    "print (result.fetchone())\n"
   ]
  },
  {
   "cell_type": "markdown",
   "id": "f1452122",
   "metadata": {},
   "source": [
    "min"
   ]
  },
  {
   "cell_type": "code",
   "execution_count": 95,
   "id": "2678d7b5",
   "metadata": {},
   "outputs": [
    {
     "name": "stdout",
     "output_type": "stream",
     "text": [
      "2023-06-02 15:31:25,468 INFO sqlalchemy.engine.Engine SELECT min(students.id) AS min_1 \n",
      "FROM students\n",
      "2023-06-02 15:31:25,468 INFO sqlalchemy.engine.Engine [generated in 0.00097s] ()\n",
      "(1,)\n"
     ]
    }
   ],
   "source": [
    "# show the minimum id\n",
    "from sqlalchemy.sql import func\n",
    "result = conn.execute(select([func.min(students.c.id)]))\n",
    "print (result.fetchone())"
   ]
  },
  {
   "cell_type": "markdown",
   "id": "960cc39b",
   "metadata": {},
   "source": [
    "avg"
   ]
  },
  {
   "cell_type": "code",
   "execution_count": 96,
   "id": "ac681941",
   "metadata": {},
   "outputs": [
    {
     "name": "stdout",
     "output_type": "stream",
     "text": [
      "2023-06-02 15:32:14,992 INFO sqlalchemy.engine.Engine SELECT avg(students.id) AS avg_1 \n",
      "FROM students\n",
      "2023-06-02 15:32:14,992 INFO sqlalchemy.engine.Engine [generated in 0.00081s] ()\n",
      "(10.5,)\n"
     ]
    }
   ],
   "source": [
    "from sqlalchemy.sql import func\n",
    "result = conn.execute(select([func.avg(students.c.id)]))\n",
    "print (result.fetchone())"
   ]
  },
  {
   "cell_type": "code",
   "execution_count": 97,
   "id": "480cd18b",
   "metadata": {},
   "outputs": [
    {
     "name": "stdout",
     "output_type": "stream",
     "text": [
      "2023-06-02 15:32:28,451 INFO sqlalchemy.engine.Engine SELECT max(students.lastname) AS \"Name\" \n",
      "FROM students\n",
      "2023-06-02 15:32:28,452 INFO sqlalchemy.engine.Engine [generated in 0.00088s] ()\n",
      "('Sattar',)\n"
     ]
    }
   ],
   "source": [
    "\"\"\"label\n",
    "result = conn.execute(select([func.max(students.c.lastname).label('Name')]))\n",
    "\n",
    "print (result.fetchone())\n",
    "\"\"\"\n"
   ]
  },
  {
   "cell_type": "markdown",
   "id": "61c528b3",
   "metadata": {},
   "source": [
    "ORM mapper / dynamic rows"
   ]
  },
  {
   "cell_type": "code",
   "execution_count": 5,
   "id": "bcec2a1a",
   "metadata": {},
   "outputs": [
    {
     "name": "stdout",
     "output_type": "stream",
     "text": [
      "2023-06-02 17:22:02,176 INFO sqlalchemy.engine.Engine BEGIN (implicit)\n",
      "2023-06-02 17:22:02,177 INFO sqlalchemy.engine.Engine PRAGMA main.table_info(\"customers\")\n",
      "2023-06-02 17:22:02,178 INFO sqlalchemy.engine.Engine [raw sql] ()\n",
      "2023-06-02 17:22:02,181 INFO sqlalchemy.engine.Engine COMMIT\n"
     ]
    }
   ],
   "source": [
    "# creation of database and a table, and to map Python class \n",
    "from sqlalchemy import Column, Integer, String\n",
    "from sqlalchemy import create_engine\n",
    "engine = create_engine('sqlite:///sales.db', echo = True)\n",
    "from sqlalchemy.ext.declarative import declarative_base\n",
    "Base = declarative_base()\n",
    "\n",
    "class Customers(Base):\n",
    "    __tablename__ = 'customers'\n",
    "    id = Column(Integer, primary_key=True)\n",
    "\n",
    "    name = Column(String)\n",
    "    address = Column(String)\n",
    "    email = Column(String)\n",
    "Base.metadata.create_all(engine)"
   ]
  },
  {
   "cell_type": "markdown",
   "id": "d23c349d",
   "metadata": {},
   "source": [
    "session creation by orm mapper"
   ]
  },
  {
   "cell_type": "code",
   "execution_count": 6,
   "id": "413e8492",
   "metadata": {},
   "outputs": [],
   "source": [
    "from sqlalchemy.orm import sessionmaker\n",
    "\n",
    "# creation of session bound to engine object\n",
    "Session = sessionmaker(bind = engine)\n",
    "\n",
    "#creation of session object\n",
    "session = Session()"
   ]
  },
  {
   "cell_type": "markdown",
   "id": "559768ca",
   "metadata": {},
   "source": [
    "adding rows to the table"
   ]
  },
  {
   "cell_type": "code",
   "execution_count": 7,
   "id": "22d4e253",
   "metadata": {},
   "outputs": [
    {
     "name": "stdout",
     "output_type": "stream",
     "text": [
      "2023-06-02 17:22:09,903 INFO sqlalchemy.engine.Engine BEGIN (implicit)\n",
      "2023-06-02 17:22:09,905 INFO sqlalchemy.engine.Engine INSERT INTO customers (name, address, email) VALUES (?, ?, ?)\n",
      "2023-06-02 17:22:09,906 INFO sqlalchemy.engine.Engine [generated in 0.00062s] ('Ravi Kumar', 'Station Road Nanded', 'ravi@gmail.com')\n",
      "2023-06-02 17:22:09,907 INFO sqlalchemy.engine.Engine COMMIT\n"
     ]
    }
   ],
   "source": [
    "c1 = Customers(name = 'Ravi Kumar', address = 'Station Road Nanded', email = 'ravi@gmail.com')\n",
    "session.add(c1)\n",
    "session.commit()"
   ]
  },
  {
   "cell_type": "code",
   "execution_count": null,
   "id": "35f6e459",
   "metadata": {},
   "outputs": [],
   "source": [
    "#complete code with seesion to craete a table\n",
    "\"\"\"\n",
    "from sqlalchemy import Column, Integer, String\n",
    "from sqlalchemy import create_engine\n",
    "engine = create_engine('sqlite:///sales.db', echo = True)\n",
    "from sqlalchemy.ext.declarative import declarative_base\n",
    "Base = declarative_base()\n",
    "\n",
    "class Customers(Base):\n",
    "   __tablename__ = 'customers'\n",
    "   \n",
    "   id = Column(Integer, primary_key=True)\n",
    "   name = Column(String)\n",
    "   address = Column(String)\n",
    "   email = Column(String)\n",
    "   \n",
    "from sqlalchemy.orm import sessionmaker\n",
    "Session = sessionmaker(bind = engine)\n",
    "session = Session()\n",
    "\n",
    "c1 = Customers(name = 'Ravi Kumar', address = 'Station Road Nanded', email = 'ravi@gmail.com')\n",
    "\n",
    "session.add(c1)\n",
    "session.commit()\n",
    "\"\"\""
   ]
  },
  {
   "cell_type": "markdown",
   "id": "53fe3892",
   "metadata": {},
   "source": [
    "add multiple rows"
   ]
  },
  {
   "cell_type": "code",
   "execution_count": 8,
   "id": "dff66918",
   "metadata": {},
   "outputs": [
    {
     "name": "stdout",
     "output_type": "stream",
     "text": [
      "2023-06-02 17:22:13,312 INFO sqlalchemy.engine.Engine BEGIN (implicit)\n",
      "2023-06-02 17:22:13,314 INFO sqlalchemy.engine.Engine INSERT INTO customers (name, address, email) VALUES (?, ?, ?)\n",
      "2023-06-02 17:22:13,314 INFO sqlalchemy.engine.Engine [cached since 3.409s ago] ('Komal Pande', 'Koti, Hyderabad', 'komal@gmail.com')\n",
      "2023-06-02 17:22:13,317 INFO sqlalchemy.engine.Engine INSERT INTO customers (name, address, email) VALUES (?, ?, ?)\n",
      "2023-06-02 17:22:13,318 INFO sqlalchemy.engine.Engine [cached since 3.413s ago] ('Rajender Nath', 'Sector 40, Gurgaon', 'nath@gmail.com')\n",
      "2023-06-02 17:22:13,319 INFO sqlalchemy.engine.Engine INSERT INTO customers (name, address, email) VALUES (?, ?, ?)\n",
      "2023-06-02 17:22:13,319 INFO sqlalchemy.engine.Engine [cached since 3.414s ago] ('S.M.Krishna', 'Budhwar Peth, Pune', 'smk@gmail.com')\n",
      "2023-06-02 17:22:13,320 INFO sqlalchemy.engine.Engine COMMIT\n"
     ]
    }
   ],
   "source": [
    "session.add_all([\n",
    "   Customers(name = 'Komal Pande', address = 'Koti, Hyderabad', email = 'komal@gmail.com'), \n",
    "   Customers(name = 'Rajender Nath', address = 'Sector 40, Gurgaon', email = 'nath@gmail.com'), \n",
    "   Customers(name = 'S.M.Krishna', address = 'Budhwar Peth, Pune', email = 'smk@gmail.com')]\n",
    ")\n",
    "\n",
    "session.commit()"
   ]
  },
  {
   "cell_type": "markdown",
   "id": "a3046857",
   "metadata": {},
   "source": [
    "select and display from table in ORM"
   ]
  },
  {
   "cell_type": "code",
   "execution_count": 9,
   "id": "778d83fe",
   "metadata": {},
   "outputs": [
    {
     "name": "stdout",
     "output_type": "stream",
     "text": [
      "2023-06-02 17:22:16,583 INFO sqlalchemy.engine.Engine BEGIN (implicit)\n",
      "2023-06-02 17:22:16,586 INFO sqlalchemy.engine.Engine SELECT customers.id AS customers_id, customers.name AS customers_name, customers.address AS customers_address, customers.email AS customers_email \n",
      "FROM customers\n",
      "2023-06-02 17:22:16,586 INFO sqlalchemy.engine.Engine [generated in 0.00055s] ()\n",
      "Name:  Ravi Kumar Address: Station Road Nanded Email: ravi@gmail.com\n",
      "Name:  Komal Pande Address: Banjara Hills Secunderabad Email: komal@gmail.com\n",
      "Name:  Rajender Nath Address: Sector 40, Gurgaon Email: nath@gmail.com\n",
      "Name:  S.M.Krishna Address: Budhwar Peth, Pune Email: smk@gmail.com\n",
      "Name:  Ravi Kumar Address: Station Road Nanded Email: ravi@gmail.com\n",
      "Name:  Komal Pande Address: Koti, Hyderabad Email: komal@gmail.com\n",
      "Name:  Rajender Nath Address: Sector 40, Gurgaon Email: nath@gmail.com\n",
      "Name:  S.M.Krishna Address: Budhwar Peth, Pune Email: smk@gmail.com\n",
      "Name:  Ravi Kumar Address: Station Road Nanded Email: ravi@gmail.com\n",
      "Name:  Komal Pande Address: Koti, Hyderabad Email: komal@gmail.com\n",
      "Name:  Rajender Nath Address: Sector 40, Gurgaon Email: nath@gmail.com\n",
      "Name:  S.M.Krishna Address: Budhwar Peth, Pune Email: smk@gmail.com\n"
     ]
    }
   ],
   "source": [
    "#creation of query method on table Customers\n",
    "#altrenate code is :  result = Query(mappedClass/tablename, session)\n",
    "q = session.query(Customers)\n",
    "\n",
    "#all() of query object returns a resultset in the form of list of objects\n",
    "result = q.all()\n",
    "\n",
    "#fetch and display result\n",
    "for row in result:\n",
    "    print (\"Name: \",row.name, \"Address:\",row.address, \"Email:\",row.email)"
   ]
  },
  {
   "cell_type": "code",
   "execution_count": null,
   "id": "21405fdc",
   "metadata": {},
   "outputs": [],
   "source": [
    "\"\"\"\n",
    "The Query object also has following useful methods −\n",
    "\n",
    "1\t\n",
    "add_columns()\n",
    "It adds one or more column expressions to the list of result columns to be returned.\n",
    "\n",
    "2\t\n",
    "add_entity()\n",
    "It adds a mapped entity to the list of result columns to be returned.\n",
    "\n",
    "3\t\n",
    "count()\n",
    "It returns a count of rows this Query would return.\n",
    "\n",
    "4\t\n",
    "delete()\n",
    "It performs a bulk delete query. Deletes rows matched by this query from the database.\n",
    "\n",
    "5\t\n",
    "distinct()\n",
    "It applies a DISTINCT clause to the query and return the newly resulting Query.\n",
    "\n",
    "6\t\n",
    "filter()\n",
    "It applies the given filtering criterion to a copy of this Query, using SQL expressions.\n",
    "\n",
    "7\t\n",
    "first()\n",
    "It returns the first result of this Query or None if the result doesn’t contain any row.\n",
    "\n",
    "8\t\n",
    "get()\n",
    "It returns an instance based on the given primary key identifier providing direct access to the identity map of the owning Session.\n",
    "\n",
    "9\t\n",
    "group_by()\n",
    "It applies one or more GROUP BY criterion to the query and return the newly resulting Query\n",
    "\n",
    "10\t\n",
    "join()\n",
    "It creates a SQL JOIN against this Query object’s criterion and apply generatively, returning the newly resulting Query.\n",
    "\n",
    "11\t\n",
    "one()\n",
    "It returns exactly one result or raise an exception.\n",
    "\n",
    "12\t\n",
    "order_by()\n",
    "It applies one or more ORDER BY criterion to the query and returns the newly resulting Query.\n",
    "\n",
    "13\t\n",
    "update()\n",
    "It performs a bulk update query and updates rows matched by this query in the database.\n",
    "\n",
    "\"\"\""
   ]
  },
  {
   "cell_type": "markdown",
   "id": "85a26192",
   "metadata": {},
   "source": [
    "All code to display all records in Customers table"
   ]
  },
  {
   "cell_type": "code",
   "execution_count": 10,
   "id": "213d6272",
   "metadata": {},
   "outputs": [
    {
     "name": "stdout",
     "output_type": "stream",
     "text": [
      "2023-06-02 17:22:21,384 INFO sqlalchemy.engine.Engine BEGIN (implicit)\n",
      "2023-06-02 17:22:21,385 INFO sqlalchemy.engine.Engine SELECT customers.id AS customers_id, customers.name AS customers_name, customers.address AS customers_address, customers.email AS customers_email \n",
      "FROM customers\n",
      "2023-06-02 17:22:21,386 INFO sqlalchemy.engine.Engine [cached since 4.8s ago] ()\n",
      "Name:  Ravi Kumar Address: Station Road Nanded Email: ravi@gmail.com\n",
      "Name:  Komal Pande Address: Banjara Hills Secunderabad Email: komal@gmail.com\n",
      "Name:  Rajender Nath Address: Sector 40, Gurgaon Email: nath@gmail.com\n",
      "Name:  S.M.Krishna Address: Budhwar Peth, Pune Email: smk@gmail.com\n",
      "Name:  Ravi Kumar Address: Station Road Nanded Email: ravi@gmail.com\n",
      "Name:  Komal Pande Address: Koti, Hyderabad Email: komal@gmail.com\n",
      "Name:  Rajender Nath Address: Sector 40, Gurgaon Email: nath@gmail.com\n",
      "Name:  S.M.Krishna Address: Budhwar Peth, Pune Email: smk@gmail.com\n",
      "Name:  Ravi Kumar Address: Station Road Nanded Email: ravi@gmail.com\n",
      "Name:  Komal Pande Address: Koti, Hyderabad Email: komal@gmail.com\n",
      "Name:  Rajender Nath Address: Sector 40, Gurgaon Email: nath@gmail.com\n",
      "Name:  S.M.Krishna Address: Budhwar Peth, Pune Email: smk@gmail.com\n"
     ]
    }
   ],
   "source": [
    "# code to display all records in Customers table\n",
    "'''\n",
    "class Customers(Base):\n",
    "    __tablename__ = 'customers'\n",
    "    id = Column(Integer, primary_key =  True)\n",
    "    name = Column(String)\n",
    "\n",
    "    address = Column(String)\n",
    "    email = Column(String)\n",
    "'''\n",
    "\n",
    "from sqlalchemy.orm import sessionmaker\n",
    "Session = sessionmaker(bind = engine)\n",
    "session = Session()\n",
    "q=session.query(Customers)\n",
    "result = session.query(Customers).all()\n",
    "\n",
    "for row in result:\n",
    "    print (\"Name: \",row.name, \"Address:\",row.address, \"Email:\",row.email)\n",
    "    \n"
   ]
  },
  {
   "cell_type": "markdown",
   "id": "0f5fa456",
   "metadata": {},
   "source": [
    "update by orm session"
   ]
  },
  {
   "cell_type": "code",
   "execution_count": 11,
   "id": "a86a8071",
   "metadata": {},
   "outputs": [
    {
     "name": "stdout",
     "output_type": "stream",
     "text": [
      "Name:  Komal Pande Address: Banjara Hills Secunderabad Email: komal@gmail.com\n",
      "2023-06-02 17:22:23,748 INFO sqlalchemy.engine.Engine COMMIT\n"
     ]
    }
   ],
   "source": [
    "# fetch an object from the table whose primary key identifier in Customers table is primary key ID=2.\n",
    "# use get() method of session \n",
    "x = session.query(Customers).get(2)\n",
    "\n",
    "#display the result\n",
    "print (\"Name: \", x.name, \"Address:\", x.address, \"Email:\", x.email)\n",
    "\n",
    "#update the address filed\n",
    "x.address = 'Banjara Hills Secunderabad'\n",
    "\n",
    "#commit the changes\n",
    "session.commit()"
   ]
  },
  {
   "cell_type": "markdown",
   "id": "0cb92e2c",
   "metadata": {},
   "source": [
    "rollback"
   ]
  },
  {
   "cell_type": "code",
   "execution_count": 12,
   "id": "4b65e131",
   "metadata": {},
   "outputs": [
    {
     "name": "stdout",
     "output_type": "stream",
     "text": [
      "2023-06-02 17:22:27,718 INFO sqlalchemy.engine.Engine BEGIN (implicit)\n",
      "2023-06-02 17:22:27,719 INFO sqlalchemy.engine.Engine SELECT customers.id AS customers_id, customers.name AS customers_name, customers.address AS customers_address, customers.email AS customers_email \n",
      "FROM customers\n",
      " LIMIT ? OFFSET ?\n",
      "2023-06-02 17:22:27,720 INFO sqlalchemy.engine.Engine [generated in 0.00113s] (1, 0)\n",
      "Name:  Ravi Kumar Address: Station Road Nanded Email: ravi@gmail.com\n",
      "Name:  Ravi Shrivastava Address: Station Road Nanded Email: ravi@gmail.com\n",
      "2023-06-02 17:22:27,723 INFO sqlalchemy.engine.Engine ROLLBACK\n",
      "2023-06-02 17:22:27,724 INFO sqlalchemy.engine.Engine BEGIN (implicit)\n",
      "2023-06-02 17:22:27,726 INFO sqlalchemy.engine.Engine SELECT customers.id AS customers_id, customers.name AS customers_name, customers.address AS customers_address, customers.email AS customers_email \n",
      "FROM customers \n",
      "WHERE customers.id = ?\n",
      "2023-06-02 17:22:27,727 INFO sqlalchemy.engine.Engine [generated in 0.00098s] (1,)\n",
      "Name:  Ravi Kumar Address: Station Road Nanded Email: ravi@gmail.com\n"
     ]
    }
   ],
   "source": [
    "# fetch first row\n",
    "x = session.query(Customers).first()\n",
    "\n",
    "#dispaly the result\n",
    "print (\"Name: \", x.name, \"Address:\", x.address, \"Email:\", x.email)\n",
    "\n",
    "# change the name attribute\n",
    "x.name = 'Ravi Shrivastava'\n",
    "\n",
    "#display the changed result\n",
    "print (\"Name: \", x.name, \"Address:\", x.address, \"Email:\", x.email)\n",
    "\n",
    "#change displayed but commited not updated in table\n",
    "#retain the earlier persistent position by using rollback() method \n",
    "session.rollback()\n",
    "\n",
    "# display the original unchanged result\n",
    "print (\"Name: \", x.name, \"Address:\", x.address, \"Email:\", x.email)\n"
   ]
  },
  {
   "cell_type": "markdown",
   "id": "90b1c094",
   "metadata": {},
   "source": [
    "For bulk updates, we shall use update() method of the Query object. Let us try and give a prefix, ‘Mr.’ to name in each row (except ID = 2). The corresponding update() statement is as follows "
   ]
  },
  {
   "cell_type": "code",
   "execution_count": null,
   "id": "7d729d04",
   "metadata": {},
   "outputs": [],
   "source": [
    "\"\"\"\n",
    "undefined result\n",
    "\n",
    "session.query(Customers).filter(Customers.id != 2)\n",
    "\n",
    "update({Customers.name:\"Mr.\"+Customers.name},synchronize_session = False)\n",
    "session.commit()\n",
    "\"\"\""
   ]
  },
  {
   "cell_type": "markdown",
   "id": "c5f4f3b3",
   "metadata": {},
   "source": [
    "filter by orm session"
   ]
  },
  {
   "cell_type": "code",
   "execution_count": 17,
   "id": "da6382e8",
   "metadata": {},
   "outputs": [
    {
     "name": "stdout",
     "output_type": "stream",
     "text": [
      "2023-06-02 17:27:13,014 INFO sqlalchemy.engine.Engine SELECT customers.id AS customers_id, customers.name AS customers_name, customers.address AS customers_address, customers.email AS customers_email \n",
      "FROM customers \n",
      "WHERE customers.id > ?\n",
      "2023-06-02 17:27:13,015 INFO sqlalchemy.engine.Engine [generated in 0.00094s] (2,)\n",
      "ID: 3 Name:  Rajender Nath Address: Sector 40, Gurgaon Email: nath@gmail.com\n",
      "ID: 4 Name:  S.M.Krishna Address: Budhwar Peth, Pune Email: smk@gmail.com\n",
      "ID: 5 Name:  Ravi Kumar Address: Station Road Nanded Email: ravi@gmail.com\n",
      "ID: 6 Name:  Komal Pande Address: Koti, Hyderabad Email: komal@gmail.com\n",
      "ID: 7 Name:  Rajender Nath Address: Sector 40, Gurgaon Email: nath@gmail.com\n",
      "ID: 8 Name:  S.M.Krishna Address: Budhwar Peth, Pune Email: smk@gmail.com\n",
      "ID: 9 Name:  Ravi Kumar Address: Station Road Nanded Email: ravi@gmail.com\n",
      "ID: 10 Name:  Komal Pande Address: Koti, Hyderabad Email: komal@gmail.com\n",
      "ID: 11 Name:  Rajender Nath Address: Sector 40, Gurgaon Email: nath@gmail.com\n",
      "ID: 12 Name:  S.M.Krishna Address: Budhwar Peth, Pune Email: smk@gmail.com\n"
     ]
    }
   ],
   "source": [
    "#general usecase of filter : session.query(class).filter(criteria)\n",
    "# follwing resultset obtained by SELECT query on Customers table is filtered by a condition, (ID>2) \n",
    "result = session.query(Customers).filter(Customers.id>2)\n",
    "\n",
    "# dispaly the result\n",
    "for row in result:\n",
    "    print (\"ID:\", row.id, \"Name: \",row.name, \"Address:\",row.address, \"Email:\",row.email)\n",
    "    \n",
    "\"\"\"\n",
    "complete code for filter is :\n",
    "\n",
    "from sqlalchemy import Column, Integer, String\n",
    "from sqlalchemy import create_engine\n",
    "engine = create_engine('sqlite:///sales.db', echo = True)\n",
    "from sqlalchemy.ext.declarative import declarative_base\n",
    "Base = declarative_base()\n",
    "\n",
    "class Customers(Base):\n",
    "   __tablename__ = 'customers'\n",
    "   \n",
    "   id = Column(Integer, primary_key = True)\n",
    "   name = Column(String)\n",
    "\n",
    "   address = Column(String)\n",
    "   email = Column(String)\n",
    "\n",
    "from sqlalchemy.orm import sessionmaker\n",
    "Session = sessionmaker(bind = engine)\n",
    "session = Session()\n",
    "result = session.query(Customers).filter(Customers.id>2)\n",
    "\n",
    "for row in result:\n",
    "   print (\"ID:\", row.id, \"Name: \",row.name, \"Address:\",row.address, \"Email:\",row.email)\n",
    "\n",
    "\"\"\""
   ]
  },
  {
   "cell_type": "code",
   "execution_count": 15,
   "id": "ab6dea7c",
   "metadata": {},
   "outputs": [
    {
     "name": "stdout",
     "output_type": "stream",
     "text": [
      "SELECT customers.id AS customers_id, customers.name AS customers_name, customers.address AS customers_address, customers.email AS customers_email \n",
      "FROM customers \n",
      "WHERE customers.id > ?\n"
     ]
    }
   ],
   "source": [
    "filter operators in orm mapper session"
   ]
  },
  {
   "cell_type": "code",
   "execution_count": 27,
   "id": "a3efd785",
   "metadata": {},
   "outputs": [
    {
     "name": "stdout",
     "output_type": "stream",
     "text": [
      "2023-06-02 17:38:02,836 INFO sqlalchemy.engine.Engine SELECT customers.id AS customers_id, customers.name AS customers_name, customers.address AS customers_address, customers.email AS customers_email \n",
      "FROM customers \n",
      "WHERE customers.id = ?\n",
      "2023-06-02 17:38:02,837 INFO sqlalchemy.engine.Engine [cached since 490.9s ago] (2,)\n",
      "ID: 2 Name:  Komal Pande Address: Banjara Hills Secunderabad Email: komal@gmail.com\n",
      "2023-06-02 17:38:02,841 INFO sqlalchemy.engine.Engine SELECT customers.id AS customers_id, customers.name AS customers_name, customers.address AS customers_address, customers.email AS customers_email \n",
      "FROM customers \n",
      "WHERE customers.id != ?\n",
      "2023-06-02 17:38:02,842 INFO sqlalchemy.engine.Engine [cached since 401.1s ago] (2,)\n",
      "ID: 1 Name:  Ravi Kumar Address: Station Road Nanded Email: ravi@gmail.com\n",
      "ID: 3 Name:  Rajender Nath Address: Sector 40, Gurgaon Email: nath@gmail.com\n",
      "ID: 4 Name:  S.M.Krishna Address: Budhwar Peth, Pune Email: smk@gmail.com\n",
      "ID: 5 Name:  Ravi Kumar Address: Station Road Nanded Email: ravi@gmail.com\n",
      "ID: 6 Name:  Komal Pande Address: Koti, Hyderabad Email: komal@gmail.com\n",
      "ID: 7 Name:  Rajender Nath Address: Sector 40, Gurgaon Email: nath@gmail.com\n",
      "ID: 8 Name:  S.M.Krishna Address: Budhwar Peth, Pune Email: smk@gmail.com\n",
      "ID: 9 Name:  Ravi Kumar Address: Station Road Nanded Email: ravi@gmail.com\n",
      "ID: 10 Name:  Komal Pande Address: Koti, Hyderabad Email: komal@gmail.com\n",
      "ID: 11 Name:  Rajender Nath Address: Sector 40, Gurgaon Email: nath@gmail.com\n",
      "ID: 12 Name:  S.M.Krishna Address: Budhwar Peth, Pune Email: smk@gmail.com\n",
      "2023-06-02 17:38:02,846 INFO sqlalchemy.engine.Engine SELECT customers.id AS customers_id, customers.name AS customers_name, customers.address AS customers_address, customers.email AS customers_email \n",
      "FROM customers \n",
      "WHERE customers.name LIKE ?\n",
      "2023-06-02 17:38:02,847 INFO sqlalchemy.engine.Engine [cached since 337.6s ago] ('Ra%',)\n",
      "ID: 1 Name:  Ravi Kumar Address: Station Road Nanded Email: ravi@gmail.com\n",
      "ID: 3 Name:  Rajender Nath Address: Sector 40, Gurgaon Email: nath@gmail.com\n",
      "ID: 5 Name:  Ravi Kumar Address: Station Road Nanded Email: ravi@gmail.com\n",
      "ID: 7 Name:  Rajender Nath Address: Sector 40, Gurgaon Email: nath@gmail.com\n",
      "ID: 9 Name:  Ravi Kumar Address: Station Road Nanded Email: ravi@gmail.com\n",
      "ID: 11 Name:  Rajender Nath Address: Sector 40, Gurgaon Email: nath@gmail.com\n",
      "2023-06-02 17:38:02,853 INFO sqlalchemy.engine.Engine SELECT customers.id AS customers_id, customers.name AS customers_name, customers.address AS customers_address, customers.email AS customers_email \n",
      "FROM customers \n",
      "WHERE customers.id IN (?, ?)\n",
      "2023-06-02 17:38:02,853 INFO sqlalchemy.engine.Engine [cached since 278.9s ago] (1, 3)\n",
      "ID: 1 Name:  Ravi Kumar Address: Station Road Nanded Email: ravi@gmail.com\n",
      "ID: 3 Name:  Rajender Nath Address: Sector 40, Gurgaon Email: nath@gmail.com\n",
      "2023-06-02 17:38:02,855 INFO sqlalchemy.engine.Engine SELECT customers.id AS customers_id, customers.name AS customers_name, customers.address AS customers_address, customers.email AS customers_email \n",
      "FROM customers \n",
      "WHERE customers.id > ? AND customers.name LIKE ?\n",
      "2023-06-02 17:38:02,856 INFO sqlalchemy.engine.Engine [cached since 211.7s ago] (2, 'Ra%')\n",
      "ID: 3 Name:  Rajender Nath Address: Sector 40, Gurgaon Email: nath@gmail.com\n",
      "ID: 5 Name:  Ravi Kumar Address: Station Road Nanded Email: ravi@gmail.com\n",
      "ID: 7 Name:  Rajender Nath Address: Sector 40, Gurgaon Email: nath@gmail.com\n",
      "ID: 9 Name:  Ravi Kumar Address: Station Road Nanded Email: ravi@gmail.com\n",
      "ID: 11 Name:  Rajender Nath Address: Sector 40, Gurgaon Email: nath@gmail.com\n",
      "2023-06-02 17:38:02,862 INFO sqlalchemy.engine.Engine SELECT customers.id AS customers_id, customers.name AS customers_name, customers.address AS customers_address, customers.email AS customers_email \n",
      "FROM customers \n",
      "WHERE customers.id > ? OR customers.name LIKE ?\n",
      "2023-06-02 17:38:02,862 INFO sqlalchemy.engine.Engine [cached since 44.39s ago] (2, 'Ra%')\n",
      "ID: 1 Name:  Ravi Kumar Address: Station Road Nanded Email: ravi@gmail.com\n",
      "ID: 3 Name:  Rajender Nath Address: Sector 40, Gurgaon Email: nath@gmail.com\n",
      "ID: 4 Name:  S.M.Krishna Address: Budhwar Peth, Pune Email: smk@gmail.com\n",
      "ID: 5 Name:  Ravi Kumar Address: Station Road Nanded Email: ravi@gmail.com\n",
      "ID: 6 Name:  Komal Pande Address: Koti, Hyderabad Email: komal@gmail.com\n",
      "ID: 7 Name:  Rajender Nath Address: Sector 40, Gurgaon Email: nath@gmail.com\n",
      "ID: 8 Name:  S.M.Krishna Address: Budhwar Peth, Pune Email: smk@gmail.com\n",
      "ID: 9 Name:  Ravi Kumar Address: Station Road Nanded Email: ravi@gmail.com\n",
      "ID: 10 Name:  Komal Pande Address: Koti, Hyderabad Email: komal@gmail.com\n",
      "ID: 11 Name:  Rajender Nath Address: Sector 40, Gurgaon Email: nath@gmail.com\n",
      "ID: 12 Name:  S.M.Krishna Address: Budhwar Peth, Pune Email: smk@gmail.com\n"
     ]
    }
   ],
   "source": [
    "# equal\n",
    "result = session.query(Customers).filter(Customers.id == 2)\n",
    "for row in result:\n",
    "    print (\"ID:\", row.id, \"Name: \",row.name, \"Address:\",row.address, \"Email:\",row.email)\n",
    "    \n",
    "# not equal to\n",
    "result = session.query(Customers).filter(Customers.id != 2)\n",
    "for row in result:\n",
    "    print (\"ID:\", row.id, \"Name: \",row.name, \"Address:\",row.address, \"Email:\",row.email)\n",
    "    \n",
    "# like\n",
    "result = session.query(Customers).filter(Customers.name.like('Ra%'))\n",
    "for row in result:\n",
    "    print (\"ID:\", row.id, \"Name: \",row.name, \"Address:\",row.address, \"Email:\",row.email)\n",
    "    \n",
    "#in\n",
    "result = session.query(Customers).filter(Customers.id.in_([1,3]))\n",
    "for row in result:\n",
    "    print (\"ID:\", row.id, \"Name: \",row.name, \"Address:\",row.address, \"Email:\",row.email)\n",
    "\n",
    "    \n",
    "#and\n",
    "result = session.query(Customers).filter(Customers.id>2, Customers.name.like('Ra%'))\n",
    "for row in result:\n",
    "    print (\"ID:\", row.id, \"Name: \",row.name, \"Address:\",row.address, \"Email:\",row.email)\n",
    "\"\"\"\n",
    "alternate approac to and\n",
    "from sqlalchemy import and_\n",
    "result = session.query(Customers).filter(and_(Customers.id>2, Customers.name.like('Ra%')))\n",
    "\n",
    "for row in result:\n",
    "   print (\"ID:\", row.id, \"Name: \",row.name, \"Address:\",row.address, \"Email:\",row.email)\n",
    "   \n",
    "\"\"\"\n",
    "\n",
    "#or\n",
    "from sqlalchemy import or_\n",
    "result = session.query(Customers).filter(or_(Customers.id>2, Customers.name.like('Ra%')))\n",
    "\n",
    "for row in result:\n",
    "    print (\"ID:\", row.id, \"Name: \",row.name, \"Address:\",row.address, \"Email:\",row.email)"
   ]
  },
  {
   "cell_type": "code",
   "execution_count": 28,
   "id": "ba122ad6",
   "metadata": {},
   "outputs": [
    {
     "name": "stdout",
     "output_type": "stream",
     "text": [
      "2023-06-02 17:38:10,297 INFO sqlalchemy.engine.Engine SELECT customers.id AS customers_id, customers.name AS customers_name, customers.address AS customers_address, customers.email AS customers_email \n",
      "FROM customers \n",
      "WHERE customers.id > ? OR customers.name LIKE ?\n",
      "2023-06-02 17:38:10,297 INFO sqlalchemy.engine.Engine [cached since 51.83s ago] (2, 'Ra%')\n",
      "ID: 1 Name:  Ravi Kumar Address: Station Road Nanded Email: ravi@gmail.com\n",
      "ID: 3 Name:  Rajender Nath Address: Sector 40, Gurgaon Email: nath@gmail.com\n",
      "ID: 4 Name:  S.M.Krishna Address: Budhwar Peth, Pune Email: smk@gmail.com\n",
      "ID: 5 Name:  Ravi Kumar Address: Station Road Nanded Email: ravi@gmail.com\n",
      "ID: 6 Name:  Komal Pande Address: Koti, Hyderabad Email: komal@gmail.com\n",
      "ID: 7 Name:  Rajender Nath Address: Sector 40, Gurgaon Email: nath@gmail.com\n",
      "ID: 8 Name:  S.M.Krishna Address: Budhwar Peth, Pune Email: smk@gmail.com\n",
      "ID: 9 Name:  Ravi Kumar Address: Station Road Nanded Email: ravi@gmail.com\n",
      "ID: 10 Name:  Komal Pande Address: Koti, Hyderabad Email: komal@gmail.com\n",
      "ID: 11 Name:  Rajender Nath Address: Sector 40, Gurgaon Email: nath@gmail.com\n",
      "ID: 12 Name:  S.M.Krishna Address: Budhwar Peth, Pune Email: smk@gmail.com\n"
     ]
    }
   ],
   "source": [
    "from sqlalchemy import or_\n",
    "result = session.query(Customers).filter(or_(Customers.id>2, Customers.name.like('Ra%')))\n",
    "\n",
    "for row in result:\n",
    "    print (\"ID:\", row.id, \"Name: \",row.name, \"Address:\",row.address, \"Email:\",row.email)"
   ]
  },
  {
   "cell_type": "code",
   "execution_count": 33,
   "id": "b8d729cf",
   "metadata": {},
   "outputs": [
    {
     "name": "stdout",
     "output_type": "stream",
     "text": [
      "2023-06-02 17:44:16,596 INFO sqlalchemy.engine.Engine SELECT customers.id AS customers_id, customers.name AS customers_name, customers.address AS customers_address, customers.email AS customers_email \n",
      "FROM customers\n",
      "2023-06-02 17:44:16,598 INFO sqlalchemy.engine.Engine [cached since 1320s ago] ()\n",
      "ID: 12 Name:  S.M.Krishna Address: Budhwar Peth, Pune Email: smk@gmail.com\n",
      "ID: 12 Name:  S.M.Krishna Address: Budhwar Peth, Pune Email: smk@gmail.com\n",
      "ID: 12 Name:  S.M.Krishna Address: Budhwar Peth, Pune Email: smk@gmail.com\n",
      "ID: 12 Name:  S.M.Krishna Address: Budhwar Peth, Pune Email: smk@gmail.com\n",
      "ID: 12 Name:  S.M.Krishna Address: Budhwar Peth, Pune Email: smk@gmail.com\n",
      "ID: 12 Name:  S.M.Krishna Address: Budhwar Peth, Pune Email: smk@gmail.com\n",
      "ID: 12 Name:  S.M.Krishna Address: Budhwar Peth, Pune Email: smk@gmail.com\n",
      "ID: 12 Name:  S.M.Krishna Address: Budhwar Peth, Pune Email: smk@gmail.com\n",
      "ID: 12 Name:  S.M.Krishna Address: Budhwar Peth, Pune Email: smk@gmail.com\n",
      "ID: 12 Name:  S.M.Krishna Address: Budhwar Peth, Pune Email: smk@gmail.com\n",
      "ID: 12 Name:  S.M.Krishna Address: Budhwar Peth, Pune Email: smk@gmail.com\n",
      "ID: 12 Name:  S.M.Krishna Address: Budhwar Peth, Pune Email: smk@gmail.com\n"
     ]
    }
   ],
   "source": [
    "#show all records in table Customers\n",
    "result = session.query(Customers).all()\n",
    "\n",
    "for i in result:\n",
    "    print (\"ID:\", row.id, \"Name: \",row.name, \"Address:\",row.address, \"Email:\",row.email)"
   ]
  },
  {
   "cell_type": "code",
   "execution_count": 32,
   "id": "4fe0f480",
   "metadata": {},
   "outputs": [
    {
     "name": "stdout",
     "output_type": "stream",
     "text": [
      "2023-06-02 17:42:33,453 INFO sqlalchemy.engine.Engine SELECT customers.id AS customers_id, customers.name AS customers_name, customers.address AS customers_address, customers.email AS customers_email \n",
      "FROM customers\n",
      " LIMIT ? OFFSET ?\n",
      "2023-06-02 17:42:33,453 INFO sqlalchemy.engine.Engine [cached since 1206s ago] (1, 0)\n",
      "ID: 12 Name:  S.M.Krishna Address: Budhwar Peth, Pune Email: smk@gmail.com\n"
     ]
    }
   ],
   "source": [
    "#show all the records in table Customers\n",
    "result = session.query(Customers).first()\n",
    "\n",
    "# since only one record result cannot be iterarted with for loop\n",
    "print (\"ID:\", row.id, \"Name: \",row.name, \"Address:\",row.address, \"Email:\",row.email)"
   ]
  },
  {
   "cell_type": "code",
   "execution_count": 35,
   "id": "c8c9e9ef",
   "metadata": {},
   "outputs": [
    {
     "name": "stdout",
     "output_type": "stream",
     "text": [
      "2023-06-02 17:44:57,893 INFO sqlalchemy.engine.Engine SELECT customers.id AS customers_id, customers.name AS customers_name, customers.address AS customers_address, customers.email AS customers_email \n",
      "FROM customers\n",
      "2023-06-02 17:44:57,894 INFO sqlalchemy.engine.Engine [cached since 1361s ago] ()\n"
     ]
    },
    {
     "ename": "MultipleResultsFound",
     "evalue": "Multiple rows were found when exactly one was required",
     "output_type": "error",
     "traceback": [
      "\u001b[1;31m---------------------------------------------------------------------------\u001b[0m",
      "\u001b[1;31mMultipleResultsFound\u001b[0m                      Traceback (most recent call last)",
      "Input \u001b[1;32mIn [35]\u001b[0m, in \u001b[0;36m<cell line: 1>\u001b[1;34m()\u001b[0m\n\u001b[1;32m----> 1\u001b[0m \u001b[38;5;28;01mfor\u001b[39;00m i \u001b[38;5;129;01min\u001b[39;00m \u001b[43msession\u001b[49m\u001b[38;5;241;43m.\u001b[39;49m\u001b[43mquery\u001b[49m\u001b[43m(\u001b[49m\u001b[43mCustomers\u001b[49m\u001b[43m)\u001b[49m\u001b[38;5;241;43m.\u001b[39;49m\u001b[43mone\u001b[49m\u001b[43m(\u001b[49m\u001b[43m)\u001b[49m:\n\u001b[0;32m      2\u001b[0m     \u001b[38;5;28mprint\u001b[39m (\u001b[38;5;124m\"\u001b[39m\u001b[38;5;124mID:\u001b[39m\u001b[38;5;124m\"\u001b[39m, row\u001b[38;5;241m.\u001b[39mid, \u001b[38;5;124m\"\u001b[39m\u001b[38;5;124mName: \u001b[39m\u001b[38;5;124m\"\u001b[39m,row\u001b[38;5;241m.\u001b[39mname, \u001b[38;5;124m\"\u001b[39m\u001b[38;5;124mAddress:\u001b[39m\u001b[38;5;124m\"\u001b[39m,row\u001b[38;5;241m.\u001b[39maddress, \u001b[38;5;124m\"\u001b[39m\u001b[38;5;124mEmail:\u001b[39m\u001b[38;5;124m\"\u001b[39m,row\u001b[38;5;241m.\u001b[39memail)\n",
      "File \u001b[1;32m~\\anaconda3\\lib\\site-packages\\sqlalchemy\\orm\\query.py:2856\u001b[0m, in \u001b[0;36mQuery.one\u001b[1;34m(self)\u001b[0m\n\u001b[0;32m   2838\u001b[0m \u001b[38;5;28;01mdef\u001b[39;00m \u001b[38;5;21mone\u001b[39m(\u001b[38;5;28mself\u001b[39m):\n\u001b[0;32m   2839\u001b[0m     \u001b[38;5;124;03m\"\"\"Return exactly one result or raise an exception.\u001b[39;00m\n\u001b[0;32m   2840\u001b[0m \n\u001b[0;32m   2841\u001b[0m \u001b[38;5;124;03m    Raises ``sqlalchemy.orm.exc.NoResultFound`` if the query selects\u001b[39;00m\n\u001b[1;32m   (...)\u001b[0m\n\u001b[0;32m   2854\u001b[0m \n\u001b[0;32m   2855\u001b[0m \u001b[38;5;124;03m    \"\"\"\u001b[39;00m\n\u001b[1;32m-> 2856\u001b[0m     \u001b[38;5;28;01mreturn\u001b[39;00m \u001b[38;5;28;43mself\u001b[39;49m\u001b[38;5;241;43m.\u001b[39;49m\u001b[43m_iter\u001b[49m\u001b[43m(\u001b[49m\u001b[43m)\u001b[49m\u001b[38;5;241;43m.\u001b[39;49m\u001b[43mone\u001b[49m\u001b[43m(\u001b[49m\u001b[43m)\u001b[49m\n",
      "File \u001b[1;32m~\\anaconda3\\lib\\site-packages\\sqlalchemy\\engine\\result.py:1408\u001b[0m, in \u001b[0;36mScalarResult.one\u001b[1;34m(self)\u001b[0m\n\u001b[0;32m   1400\u001b[0m \u001b[38;5;28;01mdef\u001b[39;00m \u001b[38;5;21mone\u001b[39m(\u001b[38;5;28mself\u001b[39m):\n\u001b[0;32m   1401\u001b[0m     \u001b[38;5;124;03m\"\"\"Return exactly one object or raise an exception.\u001b[39;00m\n\u001b[0;32m   1402\u001b[0m \n\u001b[0;32m   1403\u001b[0m \u001b[38;5;124;03m    Equivalent to :meth:`_result.Result.one` except that\u001b[39;00m\n\u001b[1;32m   (...)\u001b[0m\n\u001b[0;32m   1406\u001b[0m \n\u001b[0;32m   1407\u001b[0m \u001b[38;5;124;03m    \"\"\"\u001b[39;00m\n\u001b[1;32m-> 1408\u001b[0m     \u001b[38;5;28;01mreturn\u001b[39;00m \u001b[38;5;28;43mself\u001b[39;49m\u001b[38;5;241;43m.\u001b[39;49m\u001b[43m_only_one_row\u001b[49m\u001b[43m(\u001b[49m\n\u001b[0;32m   1409\u001b[0m \u001b[43m        \u001b[49m\u001b[43mraise_for_second_row\u001b[49m\u001b[38;5;241;43m=\u001b[39;49m\u001b[38;5;28;43;01mTrue\u001b[39;49;00m\u001b[43m,\u001b[49m\u001b[43m \u001b[49m\u001b[43mraise_for_none\u001b[49m\u001b[38;5;241;43m=\u001b[39;49m\u001b[38;5;28;43;01mTrue\u001b[39;49;00m\u001b[43m,\u001b[49m\u001b[43m \u001b[49m\u001b[43mscalar\u001b[49m\u001b[38;5;241;43m=\u001b[39;49m\u001b[38;5;28;43;01mFalse\u001b[39;49;00m\n\u001b[0;32m   1410\u001b[0m \u001b[43m    \u001b[49m\u001b[43m)\u001b[49m\n",
      "File \u001b[1;32m~\\anaconda3\\lib\\site-packages\\sqlalchemy\\engine\\result.py:614\u001b[0m, in \u001b[0;36mResultInternal._only_one_row\u001b[1;34m(self, raise_for_second_row, raise_for_none, scalar)\u001b[0m\n\u001b[0;32m    612\u001b[0m     \u001b[38;5;28;01mif\u001b[39;00m next_row \u001b[38;5;129;01mis\u001b[39;00m \u001b[38;5;129;01mnot\u001b[39;00m _NO_ROW:\n\u001b[0;32m    613\u001b[0m         \u001b[38;5;28mself\u001b[39m\u001b[38;5;241m.\u001b[39m_soft_close(hard\u001b[38;5;241m=\u001b[39m\u001b[38;5;28;01mTrue\u001b[39;00m)\n\u001b[1;32m--> 614\u001b[0m         \u001b[38;5;28;01mraise\u001b[39;00m exc\u001b[38;5;241m.\u001b[39mMultipleResultsFound(\n\u001b[0;32m    615\u001b[0m             \u001b[38;5;124m\"\u001b[39m\u001b[38;5;124mMultiple rows were found when exactly one was required\u001b[39m\u001b[38;5;124m\"\u001b[39m\n\u001b[0;32m    616\u001b[0m             \u001b[38;5;28;01mif\u001b[39;00m raise_for_none\n\u001b[0;32m    617\u001b[0m             \u001b[38;5;28;01melse\u001b[39;00m \u001b[38;5;124m\"\u001b[39m\u001b[38;5;124mMultiple rows were found when one or none \u001b[39m\u001b[38;5;124m\"\u001b[39m\n\u001b[0;32m    618\u001b[0m             \u001b[38;5;124m\"\u001b[39m\u001b[38;5;124mwas required\u001b[39m\u001b[38;5;124m\"\u001b[39m\n\u001b[0;32m    619\u001b[0m         )\n\u001b[0;32m    620\u001b[0m \u001b[38;5;28;01melse\u001b[39;00m:\n\u001b[0;32m    621\u001b[0m     next_row \u001b[38;5;241m=\u001b[39m _NO_ROW\n",
      "\u001b[1;31mMultipleResultsFound\u001b[0m: Multiple rows were found when exactly one was required"
     ]
    }
   ],
   "source": [
    "#one() :in case of With multiple rows found it gives the error\n",
    "#       MultipleResultsFound: Multiple rows were found for one()\n",
    "#       in case of now rows it gives an error NoResultFound: No row was found for one()\n",
    "for i in session.query(Customers).one():\n",
    "    print (\"ID:\", row.id, \"Name: \",row.name, \"Address:\",row.address, \"Email:\",row.email)"
   ]
  },
  {
   "cell_type": "code",
   "execution_count": 36,
   "id": "50c7b386",
   "metadata": {},
   "outputs": [
    {
     "name": "stdout",
     "output_type": "stream",
     "text": [
      "2023-06-02 17:47:18,305 INFO sqlalchemy.engine.Engine SELECT customers.id AS customers_id, customers.name AS customers_name, customers.address AS customers_address, customers.email AS customers_email \n",
      "FROM customers \n",
      "WHERE customers.id = ?\n",
      "2023-06-02 17:47:18,306 INFO sqlalchemy.engine.Engine [cached since 1046s ago] (3,)\n",
      "2023-06-02 17:47:18,308 INFO sqlalchemy.engine.Engine SELECT customers.id AS customers_id, customers.name AS customers_name, customers.address AS customers_address, customers.email AS customers_email \n",
      "FROM customers\n",
      "2023-06-02 17:47:18,308 INFO sqlalchemy.engine.Engine [cached since 1502s ago] ()\n"
     ]
    },
    {
     "ename": "MultipleResultsFound",
     "evalue": "Multiple rows were found when exactly one was required",
     "output_type": "error",
     "traceback": [
      "\u001b[1;31m---------------------------------------------------------------------------\u001b[0m",
      "\u001b[1;31mMultipleResultsFound\u001b[0m                      Traceback (most recent call last)",
      "Input \u001b[1;32mIn [36]\u001b[0m, in \u001b[0;36m<cell line: 2>\u001b[1;34m()\u001b[0m\n\u001b[0;32m      1\u001b[0m result \u001b[38;5;241m=\u001b[39m session\u001b[38;5;241m.\u001b[39mquery(Customers)\u001b[38;5;241m.\u001b[39mfilter(Customers\u001b[38;5;241m.\u001b[39mid \u001b[38;5;241m==\u001b[39m \u001b[38;5;241m3\u001b[39m)\u001b[38;5;241m.\u001b[39mscalar()\n\u001b[1;32m----> 2\u001b[0m \u001b[38;5;28;01mfor\u001b[39;00m i \u001b[38;5;129;01min\u001b[39;00m \u001b[43msession\u001b[49m\u001b[38;5;241;43m.\u001b[39;49m\u001b[43mquery\u001b[49m\u001b[43m(\u001b[49m\u001b[43mCustomers\u001b[49m\u001b[43m)\u001b[49m\u001b[38;5;241;43m.\u001b[39;49m\u001b[43mone\u001b[49m\u001b[43m(\u001b[49m\u001b[43m)\u001b[49m:\n\u001b[0;32m      3\u001b[0m     \u001b[38;5;28mprint\u001b[39m (\u001b[38;5;124m\"\u001b[39m\u001b[38;5;124mID:\u001b[39m\u001b[38;5;124m\"\u001b[39m, row\u001b[38;5;241m.\u001b[39mid, \u001b[38;5;124m\"\u001b[39m\u001b[38;5;124mName: \u001b[39m\u001b[38;5;124m\"\u001b[39m,row\u001b[38;5;241m.\u001b[39mname, \u001b[38;5;124m\"\u001b[39m\u001b[38;5;124mAddress:\u001b[39m\u001b[38;5;124m\"\u001b[39m,row\u001b[38;5;241m.\u001b[39maddress, \u001b[38;5;124m\"\u001b[39m\u001b[38;5;124mEmail:\u001b[39m\u001b[38;5;124m\"\u001b[39m,row\u001b[38;5;241m.\u001b[39memail)\n",
      "File \u001b[1;32m~\\anaconda3\\lib\\site-packages\\sqlalchemy\\orm\\query.py:2856\u001b[0m, in \u001b[0;36mQuery.one\u001b[1;34m(self)\u001b[0m\n\u001b[0;32m   2838\u001b[0m \u001b[38;5;28;01mdef\u001b[39;00m \u001b[38;5;21mone\u001b[39m(\u001b[38;5;28mself\u001b[39m):\n\u001b[0;32m   2839\u001b[0m     \u001b[38;5;124;03m\"\"\"Return exactly one result or raise an exception.\u001b[39;00m\n\u001b[0;32m   2840\u001b[0m \n\u001b[0;32m   2841\u001b[0m \u001b[38;5;124;03m    Raises ``sqlalchemy.orm.exc.NoResultFound`` if the query selects\u001b[39;00m\n\u001b[1;32m   (...)\u001b[0m\n\u001b[0;32m   2854\u001b[0m \n\u001b[0;32m   2855\u001b[0m \u001b[38;5;124;03m    \"\"\"\u001b[39;00m\n\u001b[1;32m-> 2856\u001b[0m     \u001b[38;5;28;01mreturn\u001b[39;00m \u001b[38;5;28;43mself\u001b[39;49m\u001b[38;5;241;43m.\u001b[39;49m\u001b[43m_iter\u001b[49m\u001b[43m(\u001b[49m\u001b[43m)\u001b[49m\u001b[38;5;241;43m.\u001b[39;49m\u001b[43mone\u001b[49m\u001b[43m(\u001b[49m\u001b[43m)\u001b[49m\n",
      "File \u001b[1;32m~\\anaconda3\\lib\\site-packages\\sqlalchemy\\engine\\result.py:1408\u001b[0m, in \u001b[0;36mScalarResult.one\u001b[1;34m(self)\u001b[0m\n\u001b[0;32m   1400\u001b[0m \u001b[38;5;28;01mdef\u001b[39;00m \u001b[38;5;21mone\u001b[39m(\u001b[38;5;28mself\u001b[39m):\n\u001b[0;32m   1401\u001b[0m     \u001b[38;5;124;03m\"\"\"Return exactly one object or raise an exception.\u001b[39;00m\n\u001b[0;32m   1402\u001b[0m \n\u001b[0;32m   1403\u001b[0m \u001b[38;5;124;03m    Equivalent to :meth:`_result.Result.one` except that\u001b[39;00m\n\u001b[1;32m   (...)\u001b[0m\n\u001b[0;32m   1406\u001b[0m \n\u001b[0;32m   1407\u001b[0m \u001b[38;5;124;03m    \"\"\"\u001b[39;00m\n\u001b[1;32m-> 1408\u001b[0m     \u001b[38;5;28;01mreturn\u001b[39;00m \u001b[38;5;28;43mself\u001b[39;49m\u001b[38;5;241;43m.\u001b[39;49m\u001b[43m_only_one_row\u001b[49m\u001b[43m(\u001b[49m\n\u001b[0;32m   1409\u001b[0m \u001b[43m        \u001b[49m\u001b[43mraise_for_second_row\u001b[49m\u001b[38;5;241;43m=\u001b[39;49m\u001b[38;5;28;43;01mTrue\u001b[39;49;00m\u001b[43m,\u001b[49m\u001b[43m \u001b[49m\u001b[43mraise_for_none\u001b[49m\u001b[38;5;241;43m=\u001b[39;49m\u001b[38;5;28;43;01mTrue\u001b[39;49;00m\u001b[43m,\u001b[49m\u001b[43m \u001b[49m\u001b[43mscalar\u001b[49m\u001b[38;5;241;43m=\u001b[39;49m\u001b[38;5;28;43;01mFalse\u001b[39;49;00m\n\u001b[0;32m   1410\u001b[0m \u001b[43m    \u001b[49m\u001b[43m)\u001b[49m\n",
      "File \u001b[1;32m~\\anaconda3\\lib\\site-packages\\sqlalchemy\\engine\\result.py:614\u001b[0m, in \u001b[0;36mResultInternal._only_one_row\u001b[1;34m(self, raise_for_second_row, raise_for_none, scalar)\u001b[0m\n\u001b[0;32m    612\u001b[0m     \u001b[38;5;28;01mif\u001b[39;00m next_row \u001b[38;5;129;01mis\u001b[39;00m \u001b[38;5;129;01mnot\u001b[39;00m _NO_ROW:\n\u001b[0;32m    613\u001b[0m         \u001b[38;5;28mself\u001b[39m\u001b[38;5;241m.\u001b[39m_soft_close(hard\u001b[38;5;241m=\u001b[39m\u001b[38;5;28;01mTrue\u001b[39;00m)\n\u001b[1;32m--> 614\u001b[0m         \u001b[38;5;28;01mraise\u001b[39;00m exc\u001b[38;5;241m.\u001b[39mMultipleResultsFound(\n\u001b[0;32m    615\u001b[0m             \u001b[38;5;124m\"\u001b[39m\u001b[38;5;124mMultiple rows were found when exactly one was required\u001b[39m\u001b[38;5;124m\"\u001b[39m\n\u001b[0;32m    616\u001b[0m             \u001b[38;5;28;01mif\u001b[39;00m raise_for_none\n\u001b[0;32m    617\u001b[0m             \u001b[38;5;28;01melse\u001b[39;00m \u001b[38;5;124m\"\u001b[39m\u001b[38;5;124mMultiple rows were found when one or none \u001b[39m\u001b[38;5;124m\"\u001b[39m\n\u001b[0;32m    618\u001b[0m             \u001b[38;5;124m\"\u001b[39m\u001b[38;5;124mwas required\u001b[39m\u001b[38;5;124m\"\u001b[39m\n\u001b[0;32m    619\u001b[0m         )\n\u001b[0;32m    620\u001b[0m \u001b[38;5;28;01melse\u001b[39;00m:\n\u001b[0;32m    621\u001b[0m     next_row \u001b[38;5;241m=\u001b[39m _NO_ROW\n",
      "\u001b[1;31mMultipleResultsFound\u001b[0m: Multiple rows were found when exactly one was required"
     ]
    }
   ],
   "source": [
    "#scalar():\n",
    "#It invokes the one() method, and upon success returns the first column of the row as follows\n",
    "result = session.query(Customers).filter(Customers.id == 3).scalar()\n",
    "for i in session.query(Customers).one():\n",
    "    print (\"ID:\", row.id, \"Name: \",row.name, \"Address:\",row.address, \"Email:\",row.email)"
   ]
  },
  {
   "cell_type": "code",
   "execution_count": 40,
   "id": "2b4c662f",
   "metadata": {},
   "outputs": [
    {
     "name": "stdout",
     "output_type": "stream",
     "text": [
      "2023-06-02 17:57:14,830 INFO sqlalchemy.engine.Engine BEGIN (implicit)\n",
      "2023-06-02 17:57:14,830 INFO sqlalchemy.engine.Engine PRAGMA main.table_info(\"customers\")\n",
      "2023-06-02 17:57:14,832 INFO sqlalchemy.engine.Engine [raw sql] ()\n",
      "2023-06-02 17:57:14,834 INFO sqlalchemy.engine.Engine PRAGMA main.table_info(\"invoices\")\n",
      "2023-06-02 17:57:14,834 INFO sqlalchemy.engine.Engine [raw sql] ()\n",
      "2023-06-02 17:57:14,835 INFO sqlalchemy.engine.Engine PRAGMA temp.table_info(\"invoices\")\n",
      "2023-06-02 17:57:14,835 INFO sqlalchemy.engine.Engine [raw sql] ()\n",
      "2023-06-02 17:57:14,837 INFO sqlalchemy.engine.Engine \n",
      "CREATE TABLE invoices (\n",
      "\tid INTEGER NOT NULL, \n",
      "\tcustid INTEGER, \n",
      "\tinvno INTEGER, \n",
      "\tamount INTEGER, \n",
      "\tPRIMARY KEY (id), \n",
      "\tFOREIGN KEY(custid) REFERENCES customers (id)\n",
      ")\n",
      "\n",
      "\n",
      "2023-06-02 17:57:14,837 INFO sqlalchemy.engine.Engine [no key 0.00056s] ()\n",
      "2023-06-02 17:57:14,842 INFO sqlalchemy.engine.Engine COMMIT\n"
     ]
    }
   ],
   "source": [
    "\"\"\"\n",
    "This session describes creation of another table which is related to already existing one in our \n",
    "database. The customers table contains master data of customers. We now need to create invoices \n",
    "table which may have any number of invoices belonging to a customer. This is a case of one to many\n",
    "relationships.in the follweing Invoices class applies ForeignKey construct on custid attribute. \n",
    "This directive indicates that values in this column should be constrained to be values present in\n",
    "id column in customers table\n",
    "\"\"\"\n",
    "\n",
    "\n",
    "\n",
    "from sqlalchemy import create_engine, ForeignKey, Column, Integer, String\n",
    "engine = create_engine('sqlite:///sales.db', echo = True)\n",
    "from sqlalchemy.ext.declarative import declarative_base\n",
    "Base = declarative_base()\n",
    "from sqlalchemy.orm import relationship\n",
    "\n",
    "class Customer(Base):\n",
    "    __tablename__ = 'customers'\n",
    "\n",
    "    id = Column(Integer, primary_key = True)\n",
    "    name = Column(String)\n",
    "    address = Column(String)\n",
    "    email = Column(String)\n",
    "\n",
    "\n",
    "class Invoice(Base):\n",
    "    __tablename__ = 'invoices'\n",
    "   \n",
    "    id = Column(Integer, primary_key = True)\n",
    "    custid = Column(Integer, ForeignKey('customers.id'))\n",
    "    invno = Column(Integer)\n",
    "    amount = Column(Integer)\n",
    "    customer = relationship(\"Customer\", back_populates = \"invoices\")\n",
    "\n",
    "Customer.invoices = relationship(\"Invoice\", order_by = Invoice.id, back_populates = \"customer\")\n",
    "Base.metadata.create_all(engine)\n"
   ]
  },
  {
   "cell_type": "code",
   "execution_count": null,
   "id": "ed1d199b",
   "metadata": {},
   "outputs": [],
   "source": [
    "SQLAlchemy."
   ]
  },
  {
   "cell_type": "code",
   "execution_count": null,
   "id": "c3ac6392",
   "metadata": {},
   "outputs": [],
   "source": []
  },
  {
   "cell_type": "code",
   "execution_count": null,
   "id": "f8bd6768",
   "metadata": {},
   "outputs": [],
   "source": []
  },
  {
   "cell_type": "code",
   "execution_count": null,
   "id": "5fed05bb",
   "metadata": {},
   "outputs": [],
   "source": []
  },
  {
   "cell_type": "code",
   "execution_count": null,
   "id": "3f6089fd",
   "metadata": {},
   "outputs": [],
   "source": []
  },
  {
   "cell_type": "code",
   "execution_count": null,
   "id": "b1a73b57",
   "metadata": {},
   "outputs": [],
   "source": []
  },
  {
   "cell_type": "code",
   "execution_count": null,
   "id": "84e6f849",
   "metadata": {},
   "outputs": [],
   "source": []
  },
  {
   "cell_type": "code",
   "execution_count": null,
   "id": "8a496a6e",
   "metadata": {},
   "outputs": [],
   "source": []
  },
  {
   "cell_type": "code",
   "execution_count": null,
   "id": "0afe0a78",
   "metadata": {},
   "outputs": [],
   "source": []
  },
  {
   "cell_type": "code",
   "execution_count": null,
   "id": "de191323",
   "metadata": {},
   "outputs": [],
   "source": []
  },
  {
   "cell_type": "code",
   "execution_count": null,
   "id": "81ea2b10",
   "metadata": {},
   "outputs": [],
   "source": []
  },
  {
   "cell_type": "code",
   "execution_count": null,
   "id": "3eee65c9",
   "metadata": {},
   "outputs": [],
   "source": []
  },
  {
   "cell_type": "code",
   "execution_count": null,
   "id": "3655925d",
   "metadata": {},
   "outputs": [],
   "source": []
  },
  {
   "cell_type": "code",
   "execution_count": null,
   "id": "173ff427",
   "metadata": {},
   "outputs": [],
   "source": []
  },
  {
   "cell_type": "code",
   "execution_count": null,
   "id": "f9ad72d0",
   "metadata": {},
   "outputs": [],
   "source": []
  },
  {
   "cell_type": "code",
   "execution_count": null,
   "id": "f7cce592",
   "metadata": {},
   "outputs": [],
   "source": []
  },
  {
   "cell_type": "code",
   "execution_count": null,
   "id": "93cec4b2",
   "metadata": {},
   "outputs": [],
   "source": []
  },
  {
   "cell_type": "code",
   "execution_count": null,
   "id": "fd3f8f07",
   "metadata": {},
   "outputs": [],
   "source": []
  },
  {
   "cell_type": "code",
   "execution_count": null,
   "id": "a8184c59",
   "metadata": {},
   "outputs": [],
   "source": []
  },
  {
   "cell_type": "code",
   "execution_count": null,
   "id": "ef019e63",
   "metadata": {},
   "outputs": [],
   "source": []
  },
  {
   "cell_type": "code",
   "execution_count": null,
   "id": "8515fb05",
   "metadata": {},
   "outputs": [],
   "source": []
  },
  {
   "cell_type": "code",
   "execution_count": null,
   "id": "7bc0268e",
   "metadata": {},
   "outputs": [],
   "source": []
  },
  {
   "cell_type": "code",
   "execution_count": null,
   "id": "086cf4a3",
   "metadata": {},
   "outputs": [],
   "source": []
  },
  {
   "cell_type": "code",
   "execution_count": null,
   "id": "36b7d7c9",
   "metadata": {},
   "outputs": [],
   "source": []
  },
  {
   "cell_type": "code",
   "execution_count": null,
   "id": "1c7be913",
   "metadata": {},
   "outputs": [],
   "source": []
  },
  {
   "cell_type": "code",
   "execution_count": null,
   "id": "542183c4",
   "metadata": {},
   "outputs": [],
   "source": []
  },
  {
   "cell_type": "code",
   "execution_count": null,
   "id": "68d49eef",
   "metadata": {},
   "outputs": [],
   "source": []
  },
  {
   "cell_type": "code",
   "execution_count": null,
   "id": "67978b7e",
   "metadata": {},
   "outputs": [],
   "source": []
  },
  {
   "cell_type": "code",
   "execution_count": null,
   "id": "e0ed3143",
   "metadata": {},
   "outputs": [],
   "source": []
  },
  {
   "cell_type": "code",
   "execution_count": null,
   "id": "0ba81a17",
   "metadata": {},
   "outputs": [],
   "source": []
  },
  {
   "cell_type": "code",
   "execution_count": null,
   "id": "259f6d7b",
   "metadata": {},
   "outputs": [],
   "source": []
  },
  {
   "cell_type": "code",
   "execution_count": null,
   "id": "c08eec87",
   "metadata": {},
   "outputs": [],
   "source": []
  },
  {
   "cell_type": "code",
   "execution_count": null,
   "id": "5fe8b0e4",
   "metadata": {},
   "outputs": [],
   "source": []
  },
  {
   "cell_type": "code",
   "execution_count": null,
   "id": "4acbaaa4",
   "metadata": {},
   "outputs": [],
   "source": []
  },
  {
   "cell_type": "code",
   "execution_count": null,
   "id": "87d0c486",
   "metadata": {},
   "outputs": [],
   "source": []
  },
  {
   "cell_type": "code",
   "execution_count": null,
   "id": "341a33e8",
   "metadata": {},
   "outputs": [],
   "source": []
  },
  {
   "cell_type": "code",
   "execution_count": null,
   "id": "af7f6e2a",
   "metadata": {},
   "outputs": [],
   "source": []
  },
  {
   "cell_type": "code",
   "execution_count": null,
   "id": "655c8f75",
   "metadata": {},
   "outputs": [],
   "source": []
  },
  {
   "cell_type": "code",
   "execution_count": null,
   "id": "f94e764b",
   "metadata": {},
   "outputs": [],
   "source": []
  },
  {
   "cell_type": "code",
   "execution_count": null,
   "id": "8b27b4fa",
   "metadata": {},
   "outputs": [],
   "source": []
  },
  {
   "cell_type": "code",
   "execution_count": null,
   "id": "fa156bba",
   "metadata": {},
   "outputs": [],
   "source": []
  },
  {
   "cell_type": "code",
   "execution_count": null,
   "id": "ea5f3103",
   "metadata": {},
   "outputs": [],
   "source": []
  },
  {
   "cell_type": "code",
   "execution_count": null,
   "id": "f0bedd8d",
   "metadata": {},
   "outputs": [],
   "source": []
  },
  {
   "cell_type": "code",
   "execution_count": null,
   "id": "9f6acbba",
   "metadata": {},
   "outputs": [],
   "source": []
  },
  {
   "cell_type": "code",
   "execution_count": null,
   "id": "6bec7bdc",
   "metadata": {},
   "outputs": [],
   "source": []
  },
  {
   "cell_type": "code",
   "execution_count": null,
   "id": "90f6b937",
   "metadata": {},
   "outputs": [],
   "source": []
  },
  {
   "cell_type": "code",
   "execution_count": null,
   "id": "8713878d",
   "metadata": {},
   "outputs": [],
   "source": []
  },
  {
   "cell_type": "code",
   "execution_count": null,
   "id": "f90cf9bb",
   "metadata": {},
   "outputs": [],
   "source": []
  },
  {
   "cell_type": "code",
   "execution_count": null,
   "id": "cfa2ec77",
   "metadata": {},
   "outputs": [],
   "source": []
  },
  {
   "cell_type": "code",
   "execution_count": null,
   "id": "a21e445e",
   "metadata": {},
   "outputs": [],
   "source": []
  },
  {
   "cell_type": "code",
   "execution_count": null,
   "id": "59c806c8",
   "metadata": {},
   "outputs": [],
   "source": []
  },
  {
   "cell_type": "code",
   "execution_count": null,
   "id": "90ab435f",
   "metadata": {},
   "outputs": [],
   "source": []
  },
  {
   "cell_type": "code",
   "execution_count": null,
   "id": "c221ec25",
   "metadata": {},
   "outputs": [],
   "source": []
  },
  {
   "cell_type": "code",
   "execution_count": null,
   "id": "fe192102",
   "metadata": {},
   "outputs": [],
   "source": []
  },
  {
   "cell_type": "code",
   "execution_count": null,
   "id": "569f7342",
   "metadata": {},
   "outputs": [],
   "source": []
  },
  {
   "cell_type": "code",
   "execution_count": null,
   "id": "45771f95",
   "metadata": {},
   "outputs": [],
   "source": []
  },
  {
   "cell_type": "code",
   "execution_count": null,
   "id": "ce8e4179",
   "metadata": {},
   "outputs": [],
   "source": []
  },
  {
   "cell_type": "code",
   "execution_count": null,
   "id": "911929e0",
   "metadata": {},
   "outputs": [],
   "source": []
  },
  {
   "cell_type": "code",
   "execution_count": null,
   "id": "c637b537",
   "metadata": {},
   "outputs": [],
   "source": []
  },
  {
   "cell_type": "code",
   "execution_count": null,
   "id": "947f8584",
   "metadata": {},
   "outputs": [],
   "source": []
  },
  {
   "cell_type": "code",
   "execution_count": null,
   "id": "1892fb28",
   "metadata": {},
   "outputs": [],
   "source": []
  },
  {
   "cell_type": "code",
   "execution_count": null,
   "id": "8e4b252d",
   "metadata": {},
   "outputs": [],
   "source": []
  },
  {
   "cell_type": "code",
   "execution_count": null,
   "id": "331ccbd6",
   "metadata": {},
   "outputs": [],
   "source": []
  },
  {
   "cell_type": "code",
   "execution_count": null,
   "id": "05960af0",
   "metadata": {},
   "outputs": [],
   "source": []
  },
  {
   "cell_type": "code",
   "execution_count": null,
   "id": "13c14bba",
   "metadata": {},
   "outputs": [],
   "source": []
  },
  {
   "cell_type": "code",
   "execution_count": null,
   "id": "118fff0b",
   "metadata": {},
   "outputs": [],
   "source": []
  },
  {
   "cell_type": "code",
   "execution_count": null,
   "id": "fad584e8",
   "metadata": {},
   "outputs": [],
   "source": []
  },
  {
   "cell_type": "code",
   "execution_count": null,
   "id": "2f4c21f1",
   "metadata": {},
   "outputs": [],
   "source": []
  },
  {
   "cell_type": "code",
   "execution_count": null,
   "id": "9819ea6d",
   "metadata": {},
   "outputs": [],
   "source": []
  },
  {
   "cell_type": "code",
   "execution_count": null,
   "id": "a6097726",
   "metadata": {},
   "outputs": [],
   "source": []
  },
  {
   "cell_type": "code",
   "execution_count": null,
   "id": "b211ea8d",
   "metadata": {},
   "outputs": [],
   "source": []
  },
  {
   "cell_type": "code",
   "execution_count": null,
   "id": "1355572d",
   "metadata": {},
   "outputs": [],
   "source": []
  }
 ],
 "metadata": {
  "kernelspec": {
   "display_name": "Python 3 (ipykernel)",
   "language": "python",
   "name": "python3"
  },
  "language_info": {
   "codemirror_mode": {
    "name": "ipython",
    "version": 3
   },
   "file_extension": ".py",
   "mimetype": "text/x-python",
   "name": "python",
   "nbconvert_exporter": "python",
   "pygments_lexer": "ipython3",
   "version": "3.9.12"
  }
 },
 "nbformat": 4,
 "nbformat_minor": 5
}
